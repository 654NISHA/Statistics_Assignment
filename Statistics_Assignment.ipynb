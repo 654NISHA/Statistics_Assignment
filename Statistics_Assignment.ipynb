{
 "cells": [
  {
   "cell_type": "code",
   "execution_count": 1,
   "id": "1d3688b1-98e3-460d-b609-b79c0caed0a9",
   "metadata": {},
   "outputs": [],
   "source": [
    "import numpy as np\n",
    "import pandas as pd\n",
    "import seaborn as sns\n",
    "import matplotlib.pyplot as plt\n",
    "import statistics\n",
    "import scipy.stats as stats\n",
    "from statsmodels.stats.weightstats import ztest"
   ]
  },
  {
   "cell_type": "markdown",
   "id": "cc25bd7a-ce57-4b3c-9937-2fe378dd2e1d",
   "metadata": {},
   "source": [
    "# 1. Generate a list of 100 integers containing values between 90 to 130 and store it in the variable `int_list' after generating the list, find the following:"
   ]
  },
  {
   "cell_type": "code",
   "execution_count": 2,
   "id": "201e0e93-7a01-47ea-8b42-5ef45720c850",
   "metadata": {},
   "outputs": [],
   "source": [
    "int_list = np.random.randint(90, 130, size = 100)"
   ]
  },
  {
   "cell_type": "code",
   "execution_count": 3,
   "id": "c7f3d4c2-7bc1-4f01-b729-20046d382c62",
   "metadata": {},
   "outputs": [
    {
     "data": {
      "text/plain": [
       "array([104, 124, 117, 114,  90, 118, 105, 123, 122, 103, 121, 109,  92,\n",
       "       114, 104, 117,  93,  90, 125,  96, 114, 125, 121,  95,  92, 112,\n",
       "       128, 108, 124, 123, 126, 104,  91, 118, 119, 103, 104, 100, 106,\n",
       "        98,  92,  98,  90, 105, 118, 111,  90, 106,  98, 121, 100, 114,\n",
       "       120, 106, 117, 100,  96, 119, 101, 102, 112,  93,  95, 127, 122,\n",
       "       124, 105,  95, 122, 111, 123, 116,  99, 121, 104,  95, 103, 114,\n",
       "       126, 120,  93, 126, 118, 104, 107, 118, 107, 104, 110, 102, 129,\n",
       "       122, 129,  93, 105, 100, 114, 128, 125, 103])"
      ]
     },
     "execution_count": 3,
     "metadata": {},
     "output_type": "execute_result"
    }
   ],
   "source": [
    "int_list"
   ]
  },
  {
   "cell_type": "markdown",
   "id": "de19c907-c48a-4c15-a773-336a0629fc47",
   "metadata": {},
   "source": [
    "### (i)  Write a Python function to calculate the mean of a given list of numbers..Create a function to find the median of a list of numbers."
   ]
  },
  {
   "cell_type": "code",
   "execution_count": 4,
   "id": "8f035f46-2c3b-4fdc-b764-fa42ae28133f",
   "metadata": {},
   "outputs": [
    {
     "data": {
      "text/plain": [
       "109.6"
      ]
     },
     "execution_count": 4,
     "metadata": {},
     "output_type": "execute_result"
    }
   ],
   "source": [
    "np.mean(int_list)"
   ]
  },
  {
   "cell_type": "code",
   "execution_count": 5,
   "id": "658da2d0-fe6f-4eab-a99f-3ccf39167064",
   "metadata": {},
   "outputs": [
    {
     "data": {
      "text/plain": [
       "108.5"
      ]
     },
     "execution_count": 5,
     "metadata": {},
     "output_type": "execute_result"
    }
   ],
   "source": [
    "np.median(int_list)"
   ]
  },
  {
   "cell_type": "markdown",
   "id": "239f3f40-bf36-4516-8086-9c5cb29a55b6",
   "metadata": {},
   "source": [
    "### (ii) Develop a program to compute the mode of a list of integers."
   ]
  },
  {
   "cell_type": "code",
   "execution_count": 6,
   "id": "1795435f-39b6-4789-b679-37d33a32504e",
   "metadata": {},
   "outputs": [
    {
     "data": {
      "text/plain": [
       "104"
      ]
     },
     "execution_count": 6,
     "metadata": {},
     "output_type": "execute_result"
    }
   ],
   "source": [
    "statistics.mode(int_list)"
   ]
  },
  {
   "cell_type": "markdown",
   "id": "f84b7dc6-c81e-4991-897b-e750761c89ba",
   "metadata": {},
   "source": [
    "### (iii) Implement a function to calculate the weighted mean of a list of values and their corresponding weights."
   ]
  },
  {
   "cell_type": "code",
   "execution_count": 7,
   "id": "2985eedc-a764-426a-ac70-84d077a624a6",
   "metadata": {},
   "outputs": [],
   "source": [
    "weights = np.random.randint(1, 50, 100)"
   ]
  },
  {
   "cell_type": "code",
   "execution_count": 8,
   "id": "cee09fe8-cf4d-454d-b3ef-776890da2ffe",
   "metadata": {},
   "outputs": [
    {
     "data": {
      "text/plain": [
       "array([12, 46, 38, 10, 36, 30, 43, 18, 40, 14, 23, 16, 31, 41, 16,  9, 14,\n",
       "       17,  1, 40, 49, 42, 26, 44, 11, 34, 40,  3, 32, 31, 42, 28,  5, 45,\n",
       "       45, 31,  2, 49, 33, 12,  1, 43,  2, 40,  4, 42, 37, 20, 36, 21, 16,\n",
       "       36, 15, 37, 46, 45, 29, 25, 22,  2, 32, 13, 20, 14,  2,  3,  8, 14,\n",
       "       14,  6, 14, 14, 14, 11, 29, 11, 24, 33, 29,  4, 47, 13, 44, 29, 32,\n",
       "        3, 34, 47, 46, 33, 21, 34, 41, 43, 21,  7,  7, 15, 46, 38])"
      ]
     },
     "execution_count": 8,
     "metadata": {},
     "output_type": "execute_result"
    }
   ],
   "source": [
    "weights"
   ]
  },
  {
   "cell_type": "code",
   "execution_count": 9,
   "id": "84f976a5-697c-48a0-b49f-6851505ce6c2",
   "metadata": {},
   "outputs": [],
   "source": [
    "def weighted_mean(values, weights):\n",
    "    total = 0\n",
    "    for v, w in zip(values, weights):\n",
    "        total += (v*w)\n",
    "    \n",
    "    weighted_mean = total/sum(weights)\n",
    "    return weighted_mean"
   ]
  },
  {
   "cell_type": "code",
   "execution_count": 10,
   "id": "38b18b32-3d7a-454d-b48a-cf41872bcc04",
   "metadata": {},
   "outputs": [
    {
     "data": {
      "text/plain": [
       "109.87974683544304"
      ]
     },
     "execution_count": 10,
     "metadata": {},
     "output_type": "execute_result"
    }
   ],
   "source": [
    "weighted_mean(int_list, weights)"
   ]
  },
  {
   "cell_type": "markdown",
   "id": "4bbd3559-cf7f-4045-9d61-ee0dcda31694",
   "metadata": {},
   "source": [
    "###  (iv) Write a Python function to find the geometric mean of a list of positive numbers."
   ]
  },
  {
   "cell_type": "code",
   "execution_count": 11,
   "id": "38c24a0a-9684-4144-8c22-4c9bfe0bae2b",
   "metadata": {},
   "outputs": [
    {
     "data": {
      "text/plain": [
       "108.98342538037151"
      ]
     },
     "execution_count": 11,
     "metadata": {},
     "output_type": "execute_result"
    }
   ],
   "source": [
    "from scipy.stats import gmean\n",
    "gmean(int_list)"
   ]
  },
  {
   "cell_type": "markdown",
   "id": "1b1bf9e0-313e-4082-9641-4c9ea975d822",
   "metadata": {},
   "source": [
    "### (v) Create a program to calculate the harmonic mean of a list of values."
   ]
  },
  {
   "cell_type": "code",
   "execution_count": 12,
   "id": "213250bd-b4c4-4d29-af4c-bf0e4cd19aa7",
   "metadata": {},
   "outputs": [
    {
     "data": {
      "text/plain": [
       "108.36289606337752"
      ]
     },
     "execution_count": 12,
     "metadata": {},
     "output_type": "execute_result"
    }
   ],
   "source": [
    "from scipy.stats import hmean\n",
    "hmean(int_list)"
   ]
  },
  {
   "cell_type": "markdown",
   "id": "373159e7-5eaa-4cb8-8e27-55fc53217c99",
   "metadata": {},
   "source": [
    "###  (vi) Build a function to determine the midrange of a list of numbers (average of the minimum and maximum)."
   ]
  },
  {
   "cell_type": "code",
   "execution_count": 13,
   "id": "2b2608b4-2ae5-4a8f-8328-cd022432863c",
   "metadata": {},
   "outputs": [
    {
     "data": {
      "text/plain": [
       "109.5"
      ]
     },
     "execution_count": 13,
     "metadata": {},
     "output_type": "execute_result"
    }
   ],
   "source": [
    "def midrange(int_list):\n",
    "    min_ele = min(int_list)\n",
    "    max_ele = max(int_list)\n",
    "\n",
    "    return (min_ele + max_ele)/2\n",
    "\n",
    "midrange(int_list)"
   ]
  },
  {
   "cell_type": "markdown",
   "id": "d40a9a80-db45-4f88-a484-24b9a81687a9",
   "metadata": {},
   "source": [
    "### (vii) Implement a Python program to find the trimmed mean of a list, excluding a certain percentage of outliers."
   ]
  },
  {
   "cell_type": "code",
   "execution_count": 14,
   "id": "82260764-3099-4d06-a53f-6bcc12c8ce88",
   "metadata": {},
   "outputs": [
    {
     "data": {
      "text/plain": [
       "109.725"
      ]
     },
     "execution_count": 14,
     "metadata": {},
     "output_type": "execute_result"
    }
   ],
   "source": [
    "def trimmed_mean(trimmed_percentage, int_list):\n",
    "    n = len(int_list)\n",
    "    sorted_data = sorted(int_list)\n",
    "    \n",
    "    trimmed_count = (n*trimmed_percentage)//100\n",
    "    trimmed_data = sorted_data[trimmed_count:(n-trimmed_count)]\n",
    "    \n",
    "    trimmed_mean = sum(trimmed_data) / len(trimmed_data)\n",
    "    \n",
    "    return trimmed_mean\n",
    "\n",
    "trimmed_mean(10, int_list)"
   ]
  },
  {
   "cell_type": "markdown",
   "id": "5da34013-7c23-4968-86cd-f3726d43b819",
   "metadata": {},
   "source": [
    "#  2. Generate a list of 500 integers containing values between 200 to 300 and store it in the variable `int_list2`.After generating the list, find the following:"
   ]
  },
  {
   "cell_type": "code",
   "execution_count": 15,
   "id": "070161d2-fa0f-4e4c-a4d0-5ac03e44291e",
   "metadata": {},
   "outputs": [],
   "source": [
    "int_list2 = np.random.randint(200, 300, 500)"
   ]
  },
  {
   "cell_type": "code",
   "execution_count": 16,
   "id": "2a52192b-df1f-40c5-9524-2eef7875384d",
   "metadata": {},
   "outputs": [
    {
     "data": {
      "text/plain": [
       "array([287, 279, 202, 285, 244, 296, 261, 254, 225, 269, 240, 247, 274,\n",
       "       240, 239, 220, 288, 226, 224, 293, 283, 239, 215, 286, 277, 218,\n",
       "       218, 291, 273, 210, 286, 267, 228, 228, 273, 235, 243, 215, 285,\n",
       "       242, 214, 269, 270, 207, 290, 258, 249, 281, 211, 234, 281, 264,\n",
       "       281, 235, 279, 271, 231, 203, 243, 210, 203, 230, 258, 243, 225,\n",
       "       223, 239, 254, 260, 212, 229, 294, 295, 226, 231, 219, 281, 288,\n",
       "       291, 254, 285, 299, 255, 216, 297, 211, 276, 231, 229, 254, 223,\n",
       "       290, 223, 228, 261, 289, 281, 291, 283, 288, 246, 280, 217, 212,\n",
       "       253, 250, 277, 248, 201, 211, 272, 267, 231, 260, 216, 283, 235,\n",
       "       214, 267, 259, 295, 224, 273, 228, 229, 249, 205, 243, 299, 206,\n",
       "       208, 265, 274, 222, 237, 246, 260, 289, 214, 273, 214, 297, 235,\n",
       "       285, 213, 275, 297, 278, 278, 203, 246, 231, 286, 231, 216, 250,\n",
       "       270, 265, 240, 264, 259, 260, 221, 230, 299, 258, 282, 245, 299,\n",
       "       228, 228, 282, 279, 277, 218, 275, 207, 230, 208, 255, 249, 234,\n",
       "       229, 242, 241, 295, 258, 274, 255, 250, 283, 259, 273, 231, 268,\n",
       "       260, 229, 293, 278, 249, 220, 284, 274, 239, 251, 283, 202, 258,\n",
       "       289, 268, 278, 289, 293, 214, 207, 213, 232, 280, 205, 223, 220,\n",
       "       204, 291, 226, 206, 220, 218, 229, 276, 232, 289, 284, 214, 235,\n",
       "       257, 284, 270, 244, 287, 269, 253, 269, 216, 239, 236, 221, 266,\n",
       "       274, 207, 287, 230, 248, 203, 250, 201, 220, 276, 226, 215, 218,\n",
       "       278, 274, 262, 204, 204, 225, 214, 216, 223, 200, 277, 294, 212,\n",
       "       276, 220, 253, 294, 228, 290, 214, 251, 291, 218, 267, 208, 206,\n",
       "       221, 274, 234, 233, 244, 252, 207, 283, 294, 273, 221, 293, 266,\n",
       "       251, 275, 228, 202, 265, 278, 284, 246, 207, 214, 295, 208, 215,\n",
       "       253, 261, 251, 291, 223, 239, 285, 254, 247, 242, 293, 236, 205,\n",
       "       244, 258, 254, 256, 256, 219, 207, 278, 261, 253, 214, 262, 238,\n",
       "       292, 294, 271, 299, 211, 239, 206, 215, 243, 287, 276, 279, 258,\n",
       "       238, 208, 225, 213, 204, 257, 286, 264, 263, 219, 211, 260, 242,\n",
       "       259, 238, 285, 229, 263, 224, 236, 211, 249, 207, 241, 262, 284,\n",
       "       215, 244, 229, 293, 247, 263, 216, 209, 249, 235, 224, 242, 209,\n",
       "       207, 269, 277, 272, 220, 299, 278, 222, 293, 201, 274, 269, 267,\n",
       "       202, 243, 240, 255, 278, 295, 283, 245, 229, 266, 296, 263, 293,\n",
       "       253, 229, 256, 220, 284, 221, 277, 252, 286, 208, 262, 224, 297,\n",
       "       200, 244, 270, 280, 243, 232, 269, 276, 288, 204, 223, 226, 259,\n",
       "       226, 267, 282, 239, 235, 218, 282, 297, 214, 250, 262, 214, 215,\n",
       "       220, 278, 285, 265, 299, 235, 203, 271, 271, 208, 208, 282, 298,\n",
       "       254, 206, 212, 296, 299, 212, 294, 270, 271, 234, 266, 203, 233,\n",
       "       219, 225, 201, 284, 270, 269, 240, 234, 251, 255, 265, 268, 265,\n",
       "       207, 225, 273, 228, 264, 256])"
      ]
     },
     "execution_count": 16,
     "metadata": {},
     "output_type": "execute_result"
    }
   ],
   "source": [
    "int_list2"
   ]
  },
  {
   "cell_type": "markdown",
   "id": "299b1323-cd64-4840-b4df-1c1b35a02d33",
   "metadata": {},
   "source": [
    "###   (i) Compare the given list of visualization for the given data:\n",
    "\n",
    "    1. Frequency & Gaussian distribution\n",
    "\n",
    "    2. Frequency smoothened KDE plot\n",
    "\n",
    "    3. Gaussian distribution & smoothened KDE plot"
   ]
  },
  {
   "cell_type": "code",
   "execution_count": 17,
   "id": "c2313f90-63f7-4e75-a36a-50f975367de5",
   "metadata": {},
   "outputs": [
    {
     "data": {
      "image/png": "[encoded data removed]",
      "text/plain": [
       "<Figure size 640x480 with 1 Axes>"
      ]
     },
     "metadata": {},
     "output_type": "display_data"
    }
   ],
   "source": [
    "# 1. Frequency & Gaussian distribution\n",
    "sns.histplot(int_list2)\n",
    "plt.title(\"Gaussian distribution\")\n",
    "plt.xlabel(\"Value\")\n",
    "plt.ylabel(\"Frequency\")\n",
    "plt.show()"
   ]
  },
  {
   "cell_type": "code",
   "execution_count": 18,
   "id": "1419ae13-8797-4ad8-819f-014d6e9463bd",
   "metadata": {},
   "outputs": [
    {
     "data": {
      "image/png": "[encoded data removed]",
      "text/plain": [
       "<Figure size 640x480 with 1 Axes>"
      ]
     },
     "metadata": {},
     "output_type": "display_data"
    }
   ],
   "source": [
    "# 2. Frequency smoothened KDE plot\n",
    "sns.kdeplot(int_list2)\n",
    "plt.title(\"Frequency Smoothened KDE plot\")\n",
    "plt.xlabel(\"Value\")\n",
    "plt.ylabel(\"Frequency\")\n",
    "plt.show()"
   ]
  },
  {
   "cell_type": "code",
   "execution_count": 19,
   "id": "cbfc47a2-7924-418b-8b88-34ad349b5db0",
   "metadata": {},
   "outputs": [
    {
     "data": {
      "image/png": "[encoded data removed]",
      "text/plain": [
       "<Figure size 640x480 with 1 Axes>"
      ]
     },
     "metadata": {},
     "output_type": "display_data"
    }
   ],
   "source": [
    "# 3. Gaussian distribution & smoothened KDE plot\n",
    "sns.histplot(int_list2, kde = True)\n",
    "plt.title(\"Frequency & Gaussian Distribution\")\n",
    "plt.xlabel(\"Value\")\n",
    "plt.ylabel(\"Density\")\n",
    "plt.show()"
   ]
  },
  {
   "cell_type": "markdown",
   "id": "18a0799c-4a98-47d9-a6cf-f5bd20817dc4",
   "metadata": {},
   "source": [
    "###  (ii) Write a Python function to calculate the range of a given list of numbers."
   ]
  },
  {
   "cell_type": "code",
   "execution_count": 20,
   "id": "a7afc7b1-3ff8-44f9-bd4a-c76cbcb32bfa",
   "metadata": {},
   "outputs": [
    {
     "data": {
      "text/plain": [
       "99"
      ]
     },
     "execution_count": 20,
     "metadata": {},
     "output_type": "execute_result"
    }
   ],
   "source": [
    "def range_data(data):\n",
    "    return max(data) - min(data)\n",
    "\n",
    "range_data(int_list2)"
   ]
  },
  {
   "cell_type": "markdown",
   "id": "6ec7d53e-7d5a-428c-af55-e9bd2dd11df4",
   "metadata": {},
   "source": [
    "### (iii) Create a program to find the variance and standard deviation of a list of numbers."
   ]
  },
  {
   "cell_type": "code",
   "execution_count": 21,
   "id": "eea8306d-b92a-4585-9fa5-9e043d4623c1",
   "metadata": {},
   "outputs": [
    {
     "data": {
      "text/plain": [
       "838.674864"
      ]
     },
     "execution_count": 21,
     "metadata": {},
     "output_type": "execute_result"
    }
   ],
   "source": [
    "np.var(int_list2)"
   ]
  },
  {
   "cell_type": "code",
   "execution_count": 22,
   "id": "c1d60a68-dc44-43c6-a13d-89b14eff13e5",
   "metadata": {},
   "outputs": [
    {
     "data": {
      "text/plain": [
       "28.95988370142394"
      ]
     },
     "execution_count": 22,
     "metadata": {},
     "output_type": "execute_result"
    }
   ],
   "source": [
    "np.std(int_list2)"
   ]
  },
  {
   "cell_type": "markdown",
   "id": "c7c87aba-ffd4-4c14-93dd-3a633a579bf8",
   "metadata": {},
   "source": [
    "### (iv) Implement a function to compute the interquartile range (IQR) of a list of values."
   ]
  },
  {
   "cell_type": "code",
   "execution_count": 23,
   "id": "7fa3d081-e7e1-4f32-b4c7-1047beca46e0",
   "metadata": {},
   "outputs": [],
   "source": [
    "def IQR(data):\n",
    "    Q1, Q3 = np.percentile(data ,[25,75])\n",
    "    IQR = Q3-Q1\n",
    "    return IQR"
   ]
  },
  {
   "cell_type": "code",
   "execution_count": 24,
   "id": "ebc94b7d-b102-4253-ae0b-e5c5d8c15691",
   "metadata": {},
   "outputs": [
    {
     "data": {
      "text/plain": [
       "51.25"
      ]
     },
     "execution_count": 24,
     "metadata": {},
     "output_type": "execute_result"
    }
   ],
   "source": [
    "IQR(int_list2)"
   ]
  },
  {
   "cell_type": "markdown",
   "id": "0aa02550-d857-445c-9c1f-ac4017c98185",
   "metadata": {},
   "source": [
    "###   (v) Build a program to calculate the coefficient of variation for a dataset."
   ]
  },
  {
   "cell_type": "code",
   "execution_count": 25,
   "id": "59841a49-c08a-446d-9196-34d225a1ab0c",
   "metadata": {},
   "outputs": [],
   "source": [
    "def coefficient_of_variance (data):\n",
    "    coefficient_of_variance = (np.mean(data)/ (np.std(data))) * 100\n",
    "    return coefficient_of_variance"
   ]
  },
  {
   "cell_type": "code",
   "execution_count": 26,
   "id": "de7acb96-3cb2-4c90-8735-c17b026ad3f6",
   "metadata": {},
   "outputs": [
    {
     "data": {
      "text/plain": [
       "861.3432380176823"
      ]
     },
     "execution_count": 26,
     "metadata": {},
     "output_type": "execute_result"
    }
   ],
   "source": [
    "coefficient_of_variance (int_list2)"
   ]
  },
  {
   "cell_type": "markdown",
   "id": "789e049e-c3c4-4398-b1fe-7415c30ad620",
   "metadata": {},
   "source": [
    "###  (vi) Write a Python function to find the mean absolute deviation (MAD) of a list of numbers."
   ]
  },
  {
   "cell_type": "code",
   "execution_count": 27,
   "id": "7d35fb1d-6027-4e8c-a96d-9058d51d4595",
   "metadata": {},
   "outputs": [],
   "source": [
    "def MAD(data):\n",
    "    mean = np.mean(data)\n",
    "    absolute_devi = [abs(x-mean) for x in data]\n",
    "    mean_absolute_deviation = sum(absolute_devi) / len(absolute_devi)\n",
    "    return mean_absolute_deviation"
   ]
  },
  {
   "cell_type": "code",
   "execution_count": 28,
   "id": "8e8b4978-8457-45b8-a7d9-2a8081f99265",
   "metadata": {},
   "outputs": [
    {
     "data": {
      "text/plain": [
       "25.410672000000005"
      ]
     },
     "execution_count": 28,
     "metadata": {},
     "output_type": "execute_result"
    }
   ],
   "source": [
    "MAD(int_list2)"
   ]
  },
  {
   "cell_type": "markdown",
   "id": "f825e1f9-11a2-4329-8a7b-fc6a77f8d33f",
   "metadata": {},
   "source": [
    "### (vii) Create a program to calculate the quartile deviation of a list of values."
   ]
  },
  {
   "cell_type": "code",
   "execution_count": 29,
   "id": "dc2aeac1-27bc-4459-ae40-eab4f16ad979",
   "metadata": {},
   "outputs": [],
   "source": [
    "def quartile_deviation(data):\n",
    "    Q1 = np.percentile(data, 25)\n",
    "    Q3 = np.percentile(data, 75)\n",
    "    IQR = Q3-Q1\n",
    "    quantile_deviation = IQR/2\n",
    "    return quantile_deviation"
   ]
  },
  {
   "cell_type": "code",
   "execution_count": 30,
   "id": "8b7c8ac6-a681-43f1-906a-a0c8777b17aa",
   "metadata": {},
   "outputs": [
    {
     "data": {
      "text/plain": [
       "25.625"
      ]
     },
     "execution_count": 30,
     "metadata": {},
     "output_type": "execute_result"
    }
   ],
   "source": [
    "quartile_deviation(int_list2)"
   ]
  },
  {
   "cell_type": "markdown",
   "id": "f6ba73a0-aedd-4040-bafb-11cd92e2863d",
   "metadata": {},
   "source": [
    "###  (viii) Implement a function to find the range-based coefficient of dispersion for a dataset."
   ]
  },
  {
   "cell_type": "code",
   "execution_count": 31,
   "id": "87ac65ba-3dbf-44cd-81ac-a95d0cf6ff6a",
   "metadata": {},
   "outputs": [],
   "source": [
    "def range_based_coefficient_of_dispersion(data):\n",
    "    mean = np.mean(data)\n",
    "    range = max(data) - min(data)\n",
    "    range_based_coefficient_of_dispersion = range/mean\n",
    "    return range_based_coefficient_of_dispersion"
   ]
  },
  {
   "cell_type": "code",
   "execution_count": 32,
   "id": "1365a8cd-a0a9-456c-a66f-3264828d476a",
   "metadata": {},
   "outputs": [
    {
     "data": {
      "text/plain": [
       "0.3968826670515226"
      ]
     },
     "execution_count": 32,
     "metadata": {},
     "output_type": "execute_result"
    }
   ],
   "source": [
    "range_based_coefficient_of_dispersion(int_list2)"
   ]
  },
  {
   "cell_type": "markdown",
   "id": "43583f42-bac3-4123-9278-43fdde3fec03",
   "metadata": {},
   "source": [
    "# 3)  Write a Python class representing a discrete random variable with methods to calculate its expected value and variance."
   ]
  },
  {
   "cell_type": "code",
   "execution_count": 33,
   "id": "be65be86-bc85-4814-a546-7d77be154778",
   "metadata": {},
   "outputs": [],
   "source": [
    "class discrete_random_variable:\n",
    "    def __init__(self, value, prob):\n",
    "        self.value = value\n",
    "        self.prob = prob\n",
    "        \n",
    "    def expected(self):\n",
    "        expected_value = sum(v*p for v,p in zip(self.value, self.prob))\n",
    "        return expected_value\n",
    "    \n",
    "    def variance(self):\n",
    "        mean = self.expected()\n",
    "        variance = sum((value-mean)**2*prob for value,prob in zip(self.value, self.prob))\n",
    "        return variance"
   ]
  },
  {
   "cell_type": "markdown",
   "id": "6808aa4b-20d0-440b-9a54-003e38e20fa2",
   "metadata": {},
   "source": [
    "# 4) Implement a program to simulate the rolling of a pair six-sided die and calculate the expected value and variance of the outcomes."
   ]
  },
  {
   "cell_type": "code",
   "execution_count": 34,
   "id": "a277e22e-3719-466a-9a4c-f8312ed3107c",
   "metadata": {},
   "outputs": [
    {
     "name": "stdout",
     "output_type": "stream",
     "text": [
      "Expected value 3.5\n",
      "Variance 2.9166666666666665\n"
     ]
    }
   ],
   "source": [
    "value = [1,2,3,4,5,6]\n",
    "prob = [1/6]*6\n",
    "\n",
    "dis_rand_vari = discrete_random_variable(value, prob)\n",
    "print(\"Expected value\",dis_rand_vari.expected())\n",
    "print(\"Variance\", dis_rand_vari.variance())"
   ]
  },
  {
   "cell_type": "markdown",
   "id": "f019e800-1903-425e-95c1-982a16aab4f4",
   "metadata": {},
   "source": [
    "# 5) Create a Python function to generate random samples from a given probability distribution (e.g.,binomial, Poisson) and calculate their mean and variance."
   ]
  },
  {
   "cell_type": "code",
   "execution_count": 35,
   "id": "52f4dfcf-c27c-4422-95d2-a956057efbd5",
   "metadata": {},
   "outputs": [],
   "source": [
    "def binomial_distribution(n, p, size):\n",
    "    samples = np.random.binomial(n, p, size)\n",
    "    mean = np.mean(samples)\n",
    "    variance = np.var(samples)\n",
    "    print(\"Mean of binomial distribution\", mean)\n",
    "    print(\"Variance of binomial distribution\", variance)"
   ]
  },
  {
   "cell_type": "code",
   "execution_count": 36,
   "id": "8e524f9e-40c7-48fe-a99d-68c1db1bf397",
   "metadata": {},
   "outputs": [
    {
     "name": "stdout",
     "output_type": "stream",
     "text": [
      "Mean of binomial distribution 3.87\n",
      "Variance of binomial distribution 2.3731\n"
     ]
    }
   ],
   "source": [
    "binomial_distribution(10, 0.4, 100)"
   ]
  },
  {
   "cell_type": "code",
   "execution_count": 37,
   "id": "1f27c8cb-5f45-4c5e-8884-372f8988a5b0",
   "metadata": {},
   "outputs": [],
   "source": [
    "def poisson_distribution(n, lam):\n",
    "    samples = np.random.poisson(n, lam)\n",
    "    mean = np.mean(samples)\n",
    "    variance = np.var(samples)\n",
    "    print(\"Mean of poisson distribution\", mean)\n",
    "    print(\"Variance of poisson distribution\", variance)"
   ]
  },
  {
   "cell_type": "code",
   "execution_count": 38,
   "id": "70f5306c-489e-4cb5-9823-33aa77dd9a02",
   "metadata": {},
   "outputs": [
    {
     "name": "stdout",
     "output_type": "stream",
     "text": [
      "Mean of poisson distribution 1014.2\n",
      "Variance of poisson distribution 1202.96\n"
     ]
    }
   ],
   "source": [
    "poisson_distribution(1000, 5)"
   ]
  },
  {
   "cell_type": "markdown",
   "id": "2c1f1f53-7e96-4e58-a8d6-9692603e771a",
   "metadata": {},
   "source": [
    "# 6) Write a Python script to generate random numbers from a Gaussian (normal) distribution and compute the mean, variance, and standard deviation of the samples."
   ]
  },
  {
   "cell_type": "code",
   "execution_count": 39,
   "id": "1651e94d-676e-4d30-880e-7089c3ede88e",
   "metadata": {},
   "outputs": [],
   "source": [
    "def Gaussion_distribution(mu, sigma, n):\n",
    "    samples = np.random.normal(mu, sigma, n)\n",
    "    mean = np.mean(samples)\n",
    "    variance = np.var(samples)\n",
    "    std = np.std(samples)\n",
    "    print(\"Mean of Normal distribution\", mean)\n",
    "    print(\"Variance of Normal distribution\", variance)\n",
    "    print(\"Standard deviation of normal distribution\", std)"
   ]
  },
  {
   "cell_type": "code",
   "execution_count": 40,
   "id": "bf6aeac4-306c-4d54-9272-8fdbd2ba5b9a",
   "metadata": {},
   "outputs": [
    {
     "name": "stdout",
     "output_type": "stream",
     "text": [
      "Mean of Normal distribution 0.007321570999107522\n",
      "Variance of Normal distribution 0.9913617559673829\n",
      "Standard deviation of normal distribution 0.9956715100711594\n"
     ]
    }
   ],
   "source": [
    "Gaussion_distribution(0, 1, 1000)"
   ]
  },
  {
   "cell_type": "markdown",
   "id": "7d801f35-cd31-4f52-a385-51924bc98161",
   "metadata": {},
   "source": [
    "# 7)  Use seaborn library to load `tips` dataset. Find the following from the dataset for the columns `total_bill` and `tip`:"
   ]
  },
  {
   "cell_type": "code",
   "execution_count": 41,
   "id": "33a25a6b-bc88-4442-bae6-fa56ad4752a1",
   "metadata": {},
   "outputs": [],
   "source": [
    "df = sns.load_dataset('tips')"
   ]
  },
  {
   "cell_type": "code",
   "execution_count": 42,
   "id": "9b2b12b2-13fd-401f-a99f-59a1325cbb83",
   "metadata": {},
   "outputs": [
    {
     "data": {
      "text/html": [
       "<div>\n",
       "<style scoped>\n",
       "    .dataframe tbody tr th:only-of-type {\n",
       "        vertical-align: middle;\n",
       "    }\n",
       "\n",
       "    .dataframe tbody tr th {\n",
       "        vertical-align: top;\n",
       "    }\n",
       "\n",
       "    .dataframe thead th {\n",
       "        text-align: right;\n",
       "    }\n",
       "</style>\n",
       "<table border=\"1\" class=\"dataframe\">\n",
       "  <thead>\n",
       "    <tr style=\"text-align: right;\">\n",
       "      <th></th>\n",
       "      <th>total_bill</th>\n",
       "      <th>tip</th>\n",
       "      <th>sex</th>\n",
       "      <th>smoker</th>\n",
       "      <th>day</th>\n",
       "      <th>time</th>\n",
       "      <th>size</th>\n",
       "    </tr>\n",
       "  </thead>\n",
       "  <tbody>\n",
       "    <tr>\n",
       "      <th>0</th>\n",
       "      <td>16.99</td>\n",
       "      <td>1.01</td>\n",
       "      <td>Female</td>\n",
       "      <td>No</td>\n",
       "      <td>Sun</td>\n",
       "      <td>Dinner</td>\n",
       "      <td>2</td>\n",
       "    </tr>\n",
       "    <tr>\n",
       "      <th>1</th>\n",
       "      <td>10.34</td>\n",
       "      <td>1.66</td>\n",
       "      <td>Male</td>\n",
       "      <td>No</td>\n",
       "      <td>Sun</td>\n",
       "      <td>Dinner</td>\n",
       "      <td>3</td>\n",
       "    </tr>\n",
       "    <tr>\n",
       "      <th>2</th>\n",
       "      <td>21.01</td>\n",
       "      <td>3.50</td>\n",
       "      <td>Male</td>\n",
       "      <td>No</td>\n",
       "      <td>Sun</td>\n",
       "      <td>Dinner</td>\n",
       "      <td>3</td>\n",
       "    </tr>\n",
       "    <tr>\n",
       "      <th>3</th>\n",
       "      <td>23.68</td>\n",
       "      <td>3.31</td>\n",
       "      <td>Male</td>\n",
       "      <td>No</td>\n",
       "      <td>Sun</td>\n",
       "      <td>Dinner</td>\n",
       "      <td>2</td>\n",
       "    </tr>\n",
       "    <tr>\n",
       "      <th>4</th>\n",
       "      <td>24.59</td>\n",
       "      <td>3.61</td>\n",
       "      <td>Female</td>\n",
       "      <td>No</td>\n",
       "      <td>Sun</td>\n",
       "      <td>Dinner</td>\n",
       "      <td>4</td>\n",
       "    </tr>\n",
       "    <tr>\n",
       "      <th>...</th>\n",
       "      <td>...</td>\n",
       "      <td>...</td>\n",
       "      <td>...</td>\n",
       "      <td>...</td>\n",
       "      <td>...</td>\n",
       "      <td>...</td>\n",
       "      <td>...</td>\n",
       "    </tr>\n",
       "    <tr>\n",
       "      <th>239</th>\n",
       "      <td>29.03</td>\n",
       "      <td>5.92</td>\n",
       "      <td>Male</td>\n",
       "      <td>No</td>\n",
       "      <td>Sat</td>\n",
       "      <td>Dinner</td>\n",
       "      <td>3</td>\n",
       "    </tr>\n",
       "    <tr>\n",
       "      <th>240</th>\n",
       "      <td>27.18</td>\n",
       "      <td>2.00</td>\n",
       "      <td>Female</td>\n",
       "      <td>Yes</td>\n",
       "      <td>Sat</td>\n",
       "      <td>Dinner</td>\n",
       "      <td>2</td>\n",
       "    </tr>\n",
       "    <tr>\n",
       "      <th>241</th>\n",
       "      <td>22.67</td>\n",
       "      <td>2.00</td>\n",
       "      <td>Male</td>\n",
       "      <td>Yes</td>\n",
       "      <td>Sat</td>\n",
       "      <td>Dinner</td>\n",
       "      <td>2</td>\n",
       "    </tr>\n",
       "    <tr>\n",
       "      <th>242</th>\n",
       "      <td>17.82</td>\n",
       "      <td>1.75</td>\n",
       "      <td>Male</td>\n",
       "      <td>No</td>\n",
       "      <td>Sat</td>\n",
       "      <td>Dinner</td>\n",
       "      <td>2</td>\n",
       "    </tr>\n",
       "    <tr>\n",
       "      <th>243</th>\n",
       "      <td>18.78</td>\n",
       "      <td>3.00</td>\n",
       "      <td>Female</td>\n",
       "      <td>No</td>\n",
       "      <td>Thur</td>\n",
       "      <td>Dinner</td>\n",
       "      <td>2</td>\n",
       "    </tr>\n",
       "  </tbody>\n",
       "</table>\n",
       "<p>244 rows × 7 columns</p>\n",
       "</div>"
      ],
      "text/plain": [
       "     total_bill   tip     sex smoker   day    time  size\n",
       "0         16.99  1.01  Female     No   Sun  Dinner     2\n",
       "1         10.34  1.66    Male     No   Sun  Dinner     3\n",
       "2         21.01  3.50    Male     No   Sun  Dinner     3\n",
       "3         23.68  3.31    Male     No   Sun  Dinner     2\n",
       "4         24.59  3.61  Female     No   Sun  Dinner     4\n",
       "..          ...   ...     ...    ...   ...     ...   ...\n",
       "239       29.03  5.92    Male     No   Sat  Dinner     3\n",
       "240       27.18  2.00  Female    Yes   Sat  Dinner     2\n",
       "241       22.67  2.00    Male    Yes   Sat  Dinner     2\n",
       "242       17.82  1.75    Male     No   Sat  Dinner     2\n",
       "243       18.78  3.00  Female     No  Thur  Dinner     2\n",
       "\n",
       "[244 rows x 7 columns]"
      ]
     },
     "execution_count": 42,
     "metadata": {},
     "output_type": "execute_result"
    }
   ],
   "source": [
    "df"
   ]
  },
  {
   "cell_type": "code",
   "execution_count": 43,
   "id": "e88b656d-46d8-4e0c-a453-1b3210eb84c0",
   "metadata": {},
   "outputs": [
    {
     "data": {
      "text/plain": [
       "total_bill     float64\n",
       "tip            float64\n",
       "sex           category\n",
       "smoker        category\n",
       "day           category\n",
       "time          category\n",
       "size             int64\n",
       "dtype: object"
      ]
     },
     "execution_count": 43,
     "metadata": {},
     "output_type": "execute_result"
    }
   ],
   "source": [
    "df.dtypes"
   ]
  },
  {
   "cell_type": "markdown",
   "id": "ff9edf1b-b775-4ea5-ac48-775f073ab113",
   "metadata": {},
   "source": [
    "###  (i) Write a Python function that calculates their skewness."
   ]
  },
  {
   "cell_type": "code",
   "execution_count": 44,
   "id": "3efa3b59-e858-4c39-99a8-6c72059f825d",
   "metadata": {},
   "outputs": [
    {
     "data": {
      "text/plain": [
       "<AxesSubplot: xlabel='total_bill', ylabel='Count'>"
      ]
     },
     "execution_count": 44,
     "metadata": {},
     "output_type": "execute_result"
    },
    {
     "data": {
      "image/png": "[encoded data removed]",
      "text/plain": [
       "<Figure size 640x480 with 1 Axes>"
      ]
     },
     "metadata": {},
     "output_type": "display_data"
    }
   ],
   "source": [
    "sns.histplot(df['total_bill'])"
   ]
  },
  {
   "cell_type": "code",
   "execution_count": 45,
   "id": "f1522084-d5ab-4f1c-9b65-92f54b1f8485",
   "metadata": {},
   "outputs": [
    {
     "data": {
      "text/plain": [
       "1.1262346334818638"
      ]
     },
     "execution_count": 45,
     "metadata": {},
     "output_type": "execute_result"
    }
   ],
   "source": [
    "from scipy.stats import skew\n",
    "skew(df.total_bill)"
   ]
  },
  {
   "cell_type": "code",
   "execution_count": 46,
   "id": "8a098a59-89e1-4f83-abf6-04c3937de68e",
   "metadata": {},
   "outputs": [],
   "source": [
    "def skewness(array):\n",
    "    n = len(array)\n",
    "    mean = np.mean(array)\n",
    "    s = np.std(array)\n",
    "    l = sum(((x-mean)/s)**3 for x in array)\n",
    "    a = n / ((n-1)*(n-2))\n",
    "    skewness = a * l\n",
    "    return skewness"
   ]
  },
  {
   "cell_type": "code",
   "execution_count": 47,
   "id": "fbd7ebc0-70a6-4d41-884b-4cc675b7141d",
   "metadata": {},
   "outputs": [
    {
     "data": {
      "text/plain": [
       "1.1402153715433168"
      ]
     },
     "execution_count": 47,
     "metadata": {},
     "output_type": "execute_result"
    }
   ],
   "source": [
    "skewness(df['total_bill'])"
   ]
  },
  {
   "cell_type": "markdown",
   "id": "f706b7d9-57ea-475b-bcc9-eca8f6e2676a",
   "metadata": {},
   "source": [
    "###  (ii) Create a program that determines whether the columns exhibit positive skewness, negative skewness, or is approximately symmetric."
   ]
  },
  {
   "cell_type": "code",
   "execution_count": 48,
   "id": "b0d3072f-1e6c-405f-bd46-6fdf80dac26d",
   "metadata": {},
   "outputs": [],
   "source": [
    "numeric_col = [col for col in df.columns if df[col].dtype != 'category']"
   ]
  },
  {
   "cell_type": "code",
   "execution_count": 49,
   "id": "1912d0bd-0e01-4f20-9e29-63c2b371ab5c",
   "metadata": {},
   "outputs": [
    {
     "data": {
      "text/plain": [
       "['total_bill', 'tip', 'size']"
      ]
     },
     "execution_count": 49,
     "metadata": {},
     "output_type": "execute_result"
    }
   ],
   "source": [
    "numeric_col"
   ]
  },
  {
   "cell_type": "code",
   "execution_count": 50,
   "id": "e8516440-cfae-42d4-bd7a-c053ec8e0aa6",
   "metadata": {},
   "outputs": [
    {
     "name": "stdout",
     "output_type": "stream",
     "text": [
      "total_bill is Positive skewness\n",
      "tip is Positive skewness\n",
      "size is Positive skewness\n"
     ]
    }
   ],
   "source": [
    "from scipy.stats import skew\n",
    "\n",
    "for col in numeric_col:\n",
    "    skewness = skew(df[col])\n",
    "    if abs(skewness) < 0.01:\n",
    "        print(f\"{col} is Symmetric\")\n",
    "    elif skewness < 0:\n",
    "        print(f\"{col} is Negative skewness\")\n",
    "    else:\n",
    "        print(f\"{col} is Positive skewness\")"
   ]
  },
  {
   "cell_type": "markdown",
   "id": "ac9b1937-81e6-43ef-9e40-c94ee042846d",
   "metadata": {},
   "source": [
    "### (iii) Write a function that calculates the covariance between two columns."
   ]
  },
  {
   "cell_type": "code",
   "execution_count": 51,
   "id": "ce419d9d-eb26-466d-8a65-0a5de32ccae5",
   "metadata": {},
   "outputs": [],
   "source": [
    "def covariance(df, col1, col2):\n",
    "    mean1 = np.mean(col1)\n",
    "    mean2 = np.mean(col2)\n",
    "    a = sum((x-mean1)*(y-mean2) for x,y in zip(col1, col2))\n",
    "    cov = a/(len(df)-1)\n",
    "    return cov"
   ]
  },
  {
   "cell_type": "code",
   "execution_count": 52,
   "id": "711d41f5-cba8-423d-9098-6d550c08f476",
   "metadata": {},
   "outputs": [
    {
     "data": {
      "text/plain": [
       "8.323501629224854"
      ]
     },
     "execution_count": 52,
     "metadata": {},
     "output_type": "execute_result"
    }
   ],
   "source": [
    "covariance(df, df['tip'], df['total_bill'])"
   ]
  },
  {
   "cell_type": "markdown",
   "id": "d262c140-a4be-4d5b-b48d-7a91061cf785",
   "metadata": {},
   "source": [
    "###  (iv) Implement a Python program that calculates the Pearson correlation coefficient between two columns."
   ]
  },
  {
   "cell_type": "code",
   "execution_count": 53,
   "id": "e2301548-116a-47e3-9460-4280c4be07ba",
   "metadata": {},
   "outputs": [],
   "source": [
    "def covariance(df, col1, col2):\n",
    "    mean1 = np.mean(col1)\n",
    "    mean2 = np.mean(col2)\n",
    "    a = sum((x-mean1)*(y-mean2) for x,y in zip(col1, col2))\n",
    "    cov = a/(len(df)-1)\n",
    "    return cov\n",
    "\n",
    "def pearson_correlation(df, col1, col2):\n",
    "    std1 = np.std(col1)\n",
    "    std2 = np.std(col2)\n",
    "    cov = covariance(df, col1, col2)\n",
    "    pearson_corr = cov / (std1 * std2)\n",
    "    return pearson_corr"
   ]
  },
  {
   "cell_type": "code",
   "execution_count": 54,
   "id": "279ef9f5-be78-41a9-bda9-0792ac872c36",
   "metadata": {},
   "outputs": [
    {
     "data": {
      "text/plain": [
       "0.6785149080147034"
      ]
     },
     "execution_count": 54,
     "metadata": {},
     "output_type": "execute_result"
    }
   ],
   "source": [
    "pearson_correlation(df, df['tip'], df['total_bill'])"
   ]
  },
  {
   "cell_type": "markdown",
   "id": "0f5627b2-f568-4b42-97c9-8a3ca7cb4a9d",
   "metadata": {},
   "source": [
    "### (v) Write a script to visualize the correlation between two specific columns in a Pandas DataFrame using scatter plots."
   ]
  },
  {
   "cell_type": "code",
   "execution_count": 55,
   "id": "c4e86118-57a8-4e8b-b65a-9f61e518061a",
   "metadata": {},
   "outputs": [
    {
     "data": {
      "text/plain": [
       "<AxesSubplot: xlabel='total_bill', ylabel='tip'>"
      ]
     },
     "execution_count": 55,
     "metadata": {},
     "output_type": "execute_result"
    },
    {
     "data": {
      "image/png": "[encoded data removed]",
      "text/plain": [
       "<Figure size 640x480 with 1 Axes>"
      ]
     },
     "metadata": {},
     "output_type": "display_data"
    }
   ],
   "source": [
    "sns.scatterplot(y = df['tip'], x = df['total_bill'])"
   ]
  },
  {
   "cell_type": "markdown",
   "id": "c68ebb35-b3d8-4855-a0d7-3baf04ad6210",
   "metadata": {},
   "source": [
    "# 8)  Write a Python function to calculate the probability density function (PDF) of a continuous random variable for a given normal distribution."
   ]
  },
  {
   "cell_type": "code",
   "execution_count": 56,
   "id": "c322738f-683d-4c15-8589-be9701adb5b2",
   "metadata": {},
   "outputs": [],
   "source": [
    "x = np.linspace(0, 1)\n",
    "mean = np.mean(x)\n",
    "sigma = np.std(x)\n",
    "\n",
    "from scipy.stats import norm\n",
    "pdf = norm.pdf(x, mean, sigma)"
   ]
  },
  {
   "cell_type": "code",
   "execution_count": 57,
   "id": "5f0490f0-de20-4411-b57b-17b42bc2464c",
   "metadata": {},
   "outputs": [
    {
     "data": {
      "text/plain": [
       "array([0.        , 0.02040816, 0.04081633, 0.06122449, 0.08163265,\n",
       "       0.10204082, 0.12244898, 0.14285714, 0.16326531, 0.18367347,\n",
       "       0.20408163, 0.2244898 , 0.24489796, 0.26530612, 0.28571429,\n",
       "       0.30612245, 0.32653061, 0.34693878, 0.36734694, 0.3877551 ,\n",
       "       0.40816327, 0.42857143, 0.44897959, 0.46938776, 0.48979592,\n",
       "       0.51020408, 0.53061224, 0.55102041, 0.57142857, 0.59183673,\n",
       "       0.6122449 , 0.63265306, 0.65306122, 0.67346939, 0.69387755,\n",
       "       0.71428571, 0.73469388, 0.75510204, 0.7755102 , 0.79591837,\n",
       "       0.81632653, 0.83673469, 0.85714286, 0.87755102, 0.89795918,\n",
       "       0.91836735, 0.93877551, 0.95918367, 0.97959184, 1.        ])"
      ]
     },
     "execution_count": 57,
     "metadata": {},
     "output_type": "execute_result"
    }
   ],
   "source": [
    "x"
   ]
  },
  {
   "cell_type": "code",
   "execution_count": 58,
   "id": "b4bcdf44-c3d4-49fe-a0fc-c53fe251dd8f",
   "metadata": {},
   "outputs": [
    {
     "data": {
      "text/plain": [
       "array([0.32056688, 0.35972399, 0.4017304 , 0.44649289, 0.49386579,\n",
       "       0.54364813, 0.59558178, 0.64935092, 0.70458286, 0.76085034,\n",
       "       0.81767544, 0.87453505, 0.93086787, 0.98608286, 1.03956904,\n",
       "       1.09070628, 1.13887705, 1.18347864, 1.22393558, 1.25971194,\n",
       "       1.29032313, 1.3153468 , 1.33443252, 1.34730993, 1.35379517,\n",
       "       1.35379517, 1.34730993, 1.33443252, 1.3153468 , 1.29032313,\n",
       "       1.25971194, 1.22393558, 1.18347864, 1.13887705, 1.09070628,\n",
       "       1.03956904, 0.98608286, 0.93086787, 0.87453505, 0.81767544,\n",
       "       0.76085034, 0.70458286, 0.64935092, 0.59558178, 0.54364813,\n",
       "       0.49386579, 0.44649289, 0.4017304 , 0.35972399, 0.32056688])"
      ]
     },
     "execution_count": 58,
     "metadata": {},
     "output_type": "execute_result"
    }
   ],
   "source": [
    "pdf"
   ]
  },
  {
   "cell_type": "code",
   "execution_count": 59,
   "id": "2002823c-94f3-425d-a6fd-5ee77196c042",
   "metadata": {},
   "outputs": [
    {
     "data": {
      "text/plain": [
       "0.5"
      ]
     },
     "execution_count": 59,
     "metadata": {},
     "output_type": "execute_result"
    }
   ],
   "source": [
    "mean"
   ]
  },
  {
   "cell_type": "code",
   "execution_count": 60,
   "id": "7e930614-1557-4b39-a85f-2c7c26677c1a",
   "metadata": {},
   "outputs": [
    {
     "data": {
      "image/png": "[encoded data removed]",
      "text/plain": [
       "<Figure size 640x480 with 1 Axes>"
      ]
     },
     "metadata": {},
     "output_type": "display_data"
    }
   ],
   "source": [
    "plt.plot(x, pdf, label = 'Normal Distribution')\n",
    "plt.xlabel('x')\n",
    "plt.ylabel('Probability Density')\n",
    "plt.title('Probability Density Function of a Normal Distribution')\n",
    "plt.legend()\n",
    "plt.show()"
   ]
  },
  {
   "cell_type": "markdown",
   "id": "e5ceb5ef-d11b-4a17-82c1-9bdd734f4885",
   "metadata": {},
   "source": [
    "# 9) Create a program to calculate the cumulative distribution function (CDF) of exponential distribution."
   ]
  },
  {
   "cell_type": "code",
   "execution_count": 61,
   "id": "892adcb1-753c-4058-8d9e-07c61bd0e1b0",
   "metadata": {},
   "outputs": [
    {
     "data": {
      "image/png": "[encoded data removed]",
      "text/plain": [
       "<Figure size 640x480 with 1 Axes>"
      ]
     },
     "metadata": {},
     "output_type": "display_data"
    }
   ],
   "source": [
    "x = np.linspace(0, 5, 100)\n",
    "\n",
    "lambda_para = 1\n",
    "\n",
    "cdf = 1-np.exp(-lambda_para * x)\n",
    "\n",
    "plt.plot(x, cdf, label = \" Exponential Distribution\")\n",
    "plt.xlabel('x')\n",
    "plt.ylabel('Cumulative Probability')\n",
    "plt.title('Cumulative Distribution Function of Exponential Distribution')\n",
    "plt.legend()\n",
    "plt.show()"
   ]
  },
  {
   "cell_type": "markdown",
   "id": "ae81223d-2f40-4cfa-83eb-4254bbd445eb",
   "metadata": {},
   "source": [
    "# 10)  Write a Python function to calculate the probability mass function (PMF) of Poisson distribution."
   ]
  },
  {
   "cell_type": "code",
   "execution_count": 62,
   "id": "43fdb5a6-73a7-46c9-af64-16be29a8bd8a",
   "metadata": {},
   "outputs": [
    {
     "name": "stdout",
     "output_type": "stream",
     "text": [
      "P(X = 5) when lambda = 10 is 0.03783327480207071\n"
     ]
    }
   ],
   "source": [
    "from scipy.stats import poisson\n",
    "import math\n",
    "\n",
    "k = 5\n",
    "lambda_para = 10\n",
    "\n",
    "def poisson_pmf(k, lambda_para):\n",
    "    poisson_pmf = (lambda_para ** k) * (math.exp(-lambda_para)) / math.factorial(k)\n",
    "    return poisson_pmf\n",
    "                                        \n",
    "probability = poisson_pmf(k, lambda_para)\n",
    "print(f\"P(X = {k}) when lambda = {lambda_para} is {probability}\")"
   ]
  },
  {
   "cell_type": "markdown",
   "id": "9f73c922-a4e6-4081-80b7-82fa7a131f9e",
   "metadata": {},
   "source": [
    "# 11)  A company wants to test if a new website layout leads to a higher conversion rate (percentage of visitors who make a purchase). They collect data from the old and new layouts to compare.\n"
   ]
  },
  {
   "cell_type": "code",
   "execution_count": 63,
   "id": "108d1c01-132e-4ac2-83e2-4d64690032a7",
   "metadata": {},
   "outputs": [],
   "source": [
    "# 50 purchases out of 1000 visitors\n",
    "old_layout = np.array([1]*50 + [0]*950)\n",
    "\n",
    "# 70 purchases out of 1000 visitors\n",
    "new_layout = np.array([1]*70 + [0]*930)"
   ]
  },
  {
   "cell_type": "code",
   "execution_count": 64,
   "id": "a72ba7cf-2522-4e9f-ab9e-59901f19ac45",
   "metadata": {},
   "outputs": [],
   "source": [
    "z_statistics, pvalue = ztest(old_layout, new_layout, alternative = 'larger')"
   ]
  },
  {
   "cell_type": "code",
   "execution_count": 65,
   "id": "3a310c64-924b-4646-9666-ded34e5252e6",
   "metadata": {},
   "outputs": [
    {
     "data": {
      "text/plain": [
       "(-1.883837962960912, 0.9702065516212741)"
      ]
     },
     "execution_count": 65,
     "metadata": {},
     "output_type": "execute_result"
    }
   ],
   "source": [
    "z_statistics, pvalue"
   ]
  },
  {
   "cell_type": "code",
   "execution_count": 66,
   "id": "2ed2ad8a-7059-4dce-b86d-bfb912db0bf6",
   "metadata": {},
   "outputs": [
    {
     "name": "stdout",
     "output_type": "stream",
     "text": [
      "Fail to reject H0\n"
     ]
    }
   ],
   "source": [
    "if pvalue <= 0.05:\n",
    "    print(\"Reject the H0\")\n",
    "else:\n",
    "    print(\"Fail to reject H0\")"
   ]
  },
  {
   "cell_type": "markdown",
   "id": "24d934b3-c608-4d42-b816-c1264e4c89bf",
   "metadata": {},
   "source": [
    "### conclusion : new layout of website is good."
   ]
  },
  {
   "cell_type": "markdown",
   "id": "9159c665-f240-45df-ad8d-24f9215c62d2",
   "metadata": {},
   "source": [
    "# 12) A tutoring service claims that its program improves students' exam scores. A sample of students who participated in the program was taken, and their scores before and after the program were recorded."
   ]
  },
  {
   "cell_type": "code",
   "execution_count": 67,
   "id": "6c7381ba-2afc-4a32-8fc1-95bb81b461c6",
   "metadata": {},
   "outputs": [],
   "source": [
    "before_program = np.array([75, 80, 85, 70, 90, 78, 92, 88, 82, 87])\n",
    "after_program = np.array([80, 85, 90, 80, 92, 80, 95, 90, 85, 88])"
   ]
  },
  {
   "cell_type": "code",
   "execution_count": 68,
   "id": "5ddc762f-b46b-4d86-a3bf-ec8fb526a4fd",
   "metadata": {},
   "outputs": [],
   "source": [
    "null_mean = np.mean(after_program)"
   ]
  },
  {
   "cell_type": "code",
   "execution_count": 69,
   "id": "09dafafe-a2f3-43b7-9c90-7114b7740db9",
   "metadata": {},
   "outputs": [],
   "source": [
    "z_statistics, pvalue = ztest(before_program, value = null_mean, alternative = 'larger')"
   ]
  },
  {
   "cell_type": "code",
   "execution_count": 70,
   "id": "b377491e-09dc-43ee-a24e-300ea128d859",
   "metadata": {},
   "outputs": [
    {
     "data": {
      "text/plain": [
       "(-1.714528046981441, 0.956784104697576)"
      ]
     },
     "execution_count": 70,
     "metadata": {},
     "output_type": "execute_result"
    }
   ],
   "source": [
    "z_statistics, pvalue"
   ]
  },
  {
   "cell_type": "code",
   "execution_count": 71,
   "id": "c68cbd55-9514-4b54-80c8-af9f8e7ba862",
   "metadata": {},
   "outputs": [
    {
     "name": "stdout",
     "output_type": "stream",
     "text": [
      "Fail to reject H0\n"
     ]
    }
   ],
   "source": [
    "if pvalue <= 0.05:\n",
    "    print(\"Reject the H0\")\n",
    "else:\n",
    "    print(\"Fail to reject H0\")"
   ]
  },
  {
   "cell_type": "markdown",
   "id": "1c5bbce4-aad6-4253-8a43-296b44fe7068",
   "metadata": {},
   "source": [
    "### conclusion : Tutoring improves the students scores."
   ]
  },
  {
   "cell_type": "markdown",
   "id": "1484151b-696f-4c64-b257-a07c04dc8acb",
   "metadata": {},
   "source": [
    "# 13) A pharmaceutical company wants to determine if a new drug is effective in reducing blood pressure. They conduct a study and record blood pressure measurements before and after administering the drug."
   ]
  },
  {
   "cell_type": "code",
   "execution_count": 72,
   "id": "b068fda1-3d7a-437d-aad6-9bf71dfb12bb",
   "metadata": {},
   "outputs": [],
   "source": [
    "before_drug = np.array([145, 150, 140, 135, 155, 160, 152, 148, 130, 138])\n",
    "after_drug = np.array([130, 140, 132, 128, 145, 148, 138, 136, 125, 130])"
   ]
  },
  {
   "cell_type": "code",
   "execution_count": 73,
   "id": "255e2a59-3e7e-497b-9187-956153f6db7e",
   "metadata": {},
   "outputs": [],
   "source": [
    "null_mean = np.mean(after_drug)"
   ]
  },
  {
   "cell_type": "code",
   "execution_count": 74,
   "id": "c1873f7c-4657-4871-b377-68fbe59e437f",
   "metadata": {},
   "outputs": [],
   "source": [
    "# H0 : mean(before_drug) <= mean(after_drug)\n",
    "# H1 : mean(before_drug) > mean(after_drug)\n",
    "\n",
    "z_statistics, pvalue = ztest(before_drug, value = null_mean, alternative = 'larger')"
   ]
  },
  {
   "cell_type": "code",
   "execution_count": 75,
   "id": "6cb16bfb-ed37-4883-80d8-a538c0d9391f",
   "metadata": {},
   "outputs": [
    {
     "data": {
      "text/plain": [
       "(3.3748009907004812, 0.00036934543905186787)"
      ]
     },
     "execution_count": 75,
     "metadata": {},
     "output_type": "execute_result"
    }
   ],
   "source": [
    "z_statistics, pvalue"
   ]
  },
  {
   "cell_type": "code",
   "execution_count": 76,
   "id": "ae312c29-f009-4a83-b4e0-3d0b39b930d5",
   "metadata": {},
   "outputs": [
    {
     "name": "stdout",
     "output_type": "stream",
     "text": [
      "Reject the H0\n"
     ]
    }
   ],
   "source": [
    "if pvalue <= 0.05:\n",
    "    print(\"Reject the H0\")\n",
    "else:\n",
    "    print(\"Fail to reject H0\")"
   ]
  },
  {
   "cell_type": "markdown",
   "id": "32ef53cd-7ce5-497f-b68d-80a49065c474",
   "metadata": {},
   "source": [
    "### conclusion : New drug is not effective in reducing blood pressure."
   ]
  },
  {
   "cell_type": "markdown",
   "id": "9afa3c04-4e0f-4327-a45b-16744fc31d98",
   "metadata": {},
   "source": [
    "# 14) A customer service department claims that their average response time is less than 5 minutes. A sample of recent customer interactions was taken, and the response times were recorded."
   ]
  },
  {
   "cell_type": "code",
   "execution_count": 77,
   "id": "baa40992-9437-425f-b14d-c3bed7029958",
   "metadata": {},
   "outputs": [],
   "source": [
    "response_times = np.array([4.3, 3.8, 5.1, 4.9, 4.7, 4.2, 5.2, 4.5, 4.6, 4.4])"
   ]
  },
  {
   "cell_type": "code",
   "execution_count": 78,
   "id": "0e2aca5f-209f-4e1d-a28f-a8559cdf04e3",
   "metadata": {},
   "outputs": [
    {
     "data": {
      "text/plain": [
       "4.57"
      ]
     },
     "execution_count": 78,
     "metadata": {},
     "output_type": "execute_result"
    }
   ],
   "source": [
    "np.mean(response_times)"
   ]
  },
  {
   "cell_type": "code",
   "execution_count": 79,
   "id": "bdcab8dc-69a4-45e5-8c21-946ad99cf8f2",
   "metadata": {},
   "outputs": [],
   "source": [
    "# H0 : mean <= 5\n",
    "# H1 : mean > 5\n",
    "\n",
    "null_mean = 5"
   ]
  },
  {
   "cell_type": "code",
   "execution_count": 80,
   "id": "c34e00e2-5db4-49fc-b09d-d2d2c54457cc",
   "metadata": {},
   "outputs": [],
   "source": [
    "z_statistic, p_value = ztest(response_times, value=null_mean, alternative='larger')"
   ]
  },
  {
   "cell_type": "code",
   "execution_count": 81,
   "id": "acd38075-7cf7-4a03-8669-ed6e25f1180a",
   "metadata": {},
   "outputs": [
    {
     "name": "stdout",
     "output_type": "stream",
     "text": [
      "Fail to reject H0\n"
     ]
    }
   ],
   "source": [
    "if p_value <= 0.05:\n",
    "    print(\"Reject the H0\")\n",
    "else:\n",
    "    print(\"Fail to reject H0\")"
   ]
  },
  {
   "cell_type": "markdown",
   "id": "8ffab584-d454-47cb-92a5-0c8b7913b997",
   "metadata": {},
   "source": [
    "### conclusion : average of response time is less than or equal to 5"
   ]
  },
  {
   "cell_type": "markdown",
   "id": "7b054bb4-20c3-4791-8105-b71fd4db3354",
   "metadata": {},
   "source": [
    "# 15)  A company is testing two different website layouts to see which one leads to higher click-through rates. Write a Python function to perform an A/B test analysis, including calculating the t-statistic, degrees of freedom, and p-value."
   ]
  },
  {
   "cell_type": "code",
   "execution_count": 82,
   "id": "1d841ee6-360f-4983-ac4a-ad9f2034a42b",
   "metadata": {},
   "outputs": [],
   "source": [
    "layout_a_clicks = [28, 32, 33, 29, 31, 34, 30, 35, 36, 37]\n",
    "layout_b_clicks = [40, 41, 38, 42, 39, 44, 43, 41, 45, 47]"
   ]
  },
  {
   "cell_type": "code",
   "execution_count": 83,
   "id": "9d83fd58-efba-4367-a1e5-378615c6cb44",
   "metadata": {},
   "outputs": [],
   "source": [
    "t_statistics, pvalue = stats.ttest_ind(layout_a_clicks, layout_b_clicks)"
   ]
  },
  {
   "cell_type": "code",
   "execution_count": 84,
   "id": "1bb3a45a-f3f0-4ccb-8ca0-17fd37afa21e",
   "metadata": {},
   "outputs": [],
   "source": [
    "dof = len(layout_a_clicks) + len(layout_b_clicks) - 1"
   ]
  },
  {
   "cell_type": "code",
   "execution_count": 85,
   "id": "c423a1f3-b3d4-4936-a111-69ad110ee4df",
   "metadata": {},
   "outputs": [
    {
     "data": {
      "text/plain": [
       "19"
      ]
     },
     "execution_count": 85,
     "metadata": {},
     "output_type": "execute_result"
    }
   ],
   "source": [
    "dof"
   ]
  },
  {
   "cell_type": "code",
   "execution_count": 86,
   "id": "7a6856e2-ffd7-4732-86dd-5f9ae96dc5e7",
   "metadata": {},
   "outputs": [
    {
     "name": "stdout",
     "output_type": "stream",
     "text": [
      "Reject the H0\n"
     ]
    }
   ],
   "source": [
    "if pvalue <= 0.05:\n",
    "    print(\"Reject the H0\")\n",
    "else:\n",
    "    print(\"Fail to reject H0\")"
   ]
  },
  {
   "cell_type": "markdown",
   "id": "259363bd-1d92-4924-a625-d27b85787e74",
   "metadata": {},
   "source": [
    "### conclusion : layout a is better."
   ]
  },
  {
   "cell_type": "markdown",
   "id": "f82f2bdd-ee89-408d-a481-be1ae5b0d31b",
   "metadata": {},
   "source": [
    "# 16) A pharmaceutical company wants to determine if a new drug is more effective than an existing drug in reducing cholesterol levels. Create a program to analyze the clinical trial data and calculate the t- statistic and p-value for the treatment effect."
   ]
  },
  {
   "cell_type": "code",
   "execution_count": 87,
   "id": "45a12f25-2edb-4ba0-8f00-617bbcf32dc6",
   "metadata": {},
   "outputs": [],
   "source": [
    "existing_drug_levels = [180, 182, 175, 185, 178, 176, 172, 184, 179, 183]\n",
    "new_drug_levels = [170, 172, 165, 168, 175, 173, 170, 178, 172, 176]"
   ]
  },
  {
   "cell_type": "code",
   "execution_count": 88,
   "id": "e151077d-9855-49b0-84eb-2c9d840e2ce1",
   "metadata": {},
   "outputs": [],
   "source": [
    "t_statistics, pvalue =  stats.ttest_ind(existing_drug_levels, new_drug_levels)"
   ]
  },
  {
   "cell_type": "code",
   "execution_count": 89,
   "id": "321ed029-4c3e-4198-9a57-5db066a5f120",
   "metadata": {},
   "outputs": [
    {
     "data": {
      "text/plain": [
       "0.0006143398442372505"
      ]
     },
     "execution_count": 89,
     "metadata": {},
     "output_type": "execute_result"
    }
   ],
   "source": [
    "pvalue"
   ]
  },
  {
   "cell_type": "code",
   "execution_count": 90,
   "id": "e8388910-2c88-4a69-b899-5e1f284e042c",
   "metadata": {},
   "outputs": [
    {
     "name": "stdout",
     "output_type": "stream",
     "text": [
      "Reject the H0\n"
     ]
    }
   ],
   "source": [
    "if pvalue <= 0.05:\n",
    "    print(\"Reject the H0\")\n",
    "else:\n",
    "    print(\"Fail to reject H0\")"
   ]
  },
  {
   "cell_type": "markdown",
   "id": "9a78ffa3-4032-421a-8235-3990071d3da4",
   "metadata": {},
   "source": [
    "### conclusion : Existing drug is reduce cholesterol level."
   ]
  },
  {
   "cell_type": "markdown",
   "id": "0b7fe234-0fd0-48c5-b93b-6c5177d2371f",
   "metadata": {},
   "source": [
    "# 17) A school district introduces an educational intervention program to improve math scores. Write a Python function to analyze pre- and post-intervention test scores, calculating the t-statistic and p-value to determine if the intervention had a significant impact."
   ]
  },
  {
   "cell_type": "code",
   "execution_count": 91,
   "id": "f7d4ff6b-e590-41a3-9cb8-af2b00922f01",
   "metadata": {},
   "outputs": [],
   "source": [
    "pre_intervention_scores = [80, 85, 90, 75, 88, 82, 92, 78, 85, 87]\n",
    "post_intervention_scores = [90, 92, 88, 92, 95, 91, 96, 93, 89, 93]"
   ]
  },
  {
   "cell_type": "code",
   "execution_count": 92,
   "id": "b19ab756-627f-4cd0-871e-2028e8dcdc99",
   "metadata": {},
   "outputs": [],
   "source": [
    "t_statistics, pvalue = stats.ttest_rel(pre_intervention_scores, post_intervention_scores)"
   ]
  },
  {
   "cell_type": "code",
   "execution_count": 93,
   "id": "d2e858fb-ee95-4025-be66-49c79262d24b",
   "metadata": {},
   "outputs": [
    {
     "data": {
      "text/plain": [
       "0.0016509548165795493"
      ]
     },
     "execution_count": 93,
     "metadata": {},
     "output_type": "execute_result"
    }
   ],
   "source": [
    "pvalue"
   ]
  },
  {
   "cell_type": "code",
   "execution_count": 94,
   "id": "9d2b4a36-9b21-4c4c-80a6-a49b45aad152",
   "metadata": {},
   "outputs": [
    {
     "name": "stdout",
     "output_type": "stream",
     "text": [
      "Reject the H0\n"
     ]
    }
   ],
   "source": [
    "if pvalue <= 0.05:\n",
    "    print(\"Reject the H0\")\n",
    "else:\n",
    "    print(\"Fail to reject H0\")"
   ]
  },
  {
   "cell_type": "markdown",
   "id": "0a150a9b-6382-4b69-b2b3-9d5c6a36bbc6",
   "metadata": {},
   "source": [
    "### conclusion : The educational intervention had a significant impact on math scores."
   ]
  },
  {
   "cell_type": "markdown",
   "id": "68e212ae-6207-4961-b963-45b12900cfbb",
   "metadata": {},
   "source": [
    "# 18) An HR department wants to investigate if there's a gender-based salary gap within the company. Develop a program to analyze salary data, calculate the t-statistic, and determine if there's a statistically significant difference between the average salaries of male and female employees"
   ]
  },
  {
   "cell_type": "code",
   "execution_count": 95,
   "id": "9ca592e1-a7ac-4f34-bb90-f04ea7550539",
   "metadata": {},
   "outputs": [],
   "source": [
    " # Generate synthetic salary data for male and female employees\n",
    "np.random.seed(0)  # For reproducibility\n",
    "male_salaries = np.random.normal(loc=50000, scale=10000, size=20)\n",
    "female_salaries = np.random.normal(loc=55000, scale=9000, size=20)"
   ]
  },
  {
   "cell_type": "code",
   "execution_count": 96,
   "id": "79fb6cd2-2a14-4620-a06c-dc3ab60818b8",
   "metadata": {},
   "outputs": [],
   "source": [
    "data = pd.DataFrame({'male_salary':male_salaries,'female_salary':female_salaries})"
   ]
  },
  {
   "cell_type": "code",
   "execution_count": 97,
   "id": "3686d807-22aa-4f69-b6c2-5d08a3c5c3af",
   "metadata": {},
   "outputs": [
    {
     "data": {
      "text/html": [
       "<div>\n",
       "<style scoped>\n",
       "    .dataframe tbody tr th:only-of-type {\n",
       "        vertical-align: middle;\n",
       "    }\n",
       "\n",
       "    .dataframe tbody tr th {\n",
       "        vertical-align: top;\n",
       "    }\n",
       "\n",
       "    .dataframe thead th {\n",
       "        text-align: right;\n",
       "    }\n",
       "</style>\n",
       "<table border=\"1\" class=\"dataframe\">\n",
       "  <thead>\n",
       "    <tr style=\"text-align: right;\">\n",
       "      <th></th>\n",
       "      <th>male_salary</th>\n",
       "      <th>female_salary</th>\n",
       "    </tr>\n",
       "  </thead>\n",
       "  <tbody>\n",
       "    <tr>\n",
       "      <th>0</th>\n",
       "      <td>67640.523460</td>\n",
       "      <td>32023.091657</td>\n",
       "    </tr>\n",
       "    <tr>\n",
       "      <th>1</th>\n",
       "      <td>54001.572084</td>\n",
       "      <td>60882.567359</td>\n",
       "    </tr>\n",
       "    <tr>\n",
       "      <th>2</th>\n",
       "      <td>59787.379841</td>\n",
       "      <td>62779.925790</td>\n",
       "    </tr>\n",
       "    <tr>\n",
       "      <th>3</th>\n",
       "      <td>72408.931992</td>\n",
       "      <td>48320.514816</td>\n",
       "    </tr>\n",
       "    <tr>\n",
       "      <th>4</th>\n",
       "      <td>68675.579901</td>\n",
       "      <td>75427.791616</td>\n",
       "    </tr>\n",
       "    <tr>\n",
       "      <th>5</th>\n",
       "      <td>40227.221201</td>\n",
       "      <td>41910.708929</td>\n",
       "    </tr>\n",
       "    <tr>\n",
       "      <th>6</th>\n",
       "      <td>59500.884175</td>\n",
       "      <td>55411.826656</td>\n",
       "    </tr>\n",
       "    <tr>\n",
       "      <th>7</th>\n",
       "      <td>48486.427917</td>\n",
       "      <td>53315.345350</td>\n",
       "    </tr>\n",
       "    <tr>\n",
       "      <th>8</th>\n",
       "      <td>48967.811482</td>\n",
       "      <td>68795.012929</td>\n",
       "    </tr>\n",
       "    <tr>\n",
       "      <th>9</th>\n",
       "      <td>54105.985019</td>\n",
       "      <td>68224.228929</td>\n",
       "    </tr>\n",
       "    <tr>\n",
       "      <th>10</th>\n",
       "      <td>51440.435712</td>\n",
       "      <td>56394.526831</td>\n",
       "    </tr>\n",
       "    <tr>\n",
       "      <th>11</th>\n",
       "      <td>64542.735070</td>\n",
       "      <td>58403.462676</td>\n",
       "    </tr>\n",
       "    <tr>\n",
       "      <th>12</th>\n",
       "      <td>57610.377251</td>\n",
       "      <td>47009.928271</td>\n",
       "    </tr>\n",
       "    <tr>\n",
       "      <th>13</th>\n",
       "      <td>51216.750165</td>\n",
       "      <td>37172.831786</td>\n",
       "    </tr>\n",
       "    <tr>\n",
       "      <th>14</th>\n",
       "      <td>54438.632327</td>\n",
       "      <td>51868.790656</td>\n",
       "    </tr>\n",
       "    <tr>\n",
       "      <th>15</th>\n",
       "      <td>53336.743274</td>\n",
       "      <td>56407.140722</td>\n",
       "    </tr>\n",
       "    <tr>\n",
       "      <th>16</th>\n",
       "      <td>64940.790732</td>\n",
       "      <td>66072.616127</td>\n",
       "    </tr>\n",
       "    <tr>\n",
       "      <th>17</th>\n",
       "      <td>47948.417362</td>\n",
       "      <td>65821.418639</td>\n",
       "    </tr>\n",
       "    <tr>\n",
       "      <th>18</th>\n",
       "      <td>53130.677017</td>\n",
       "      <td>51514.058643</td>\n",
       "    </tr>\n",
       "    <tr>\n",
       "      <th>19</th>\n",
       "      <td>41459.042607</td>\n",
       "      <td>52279.275245</td>\n",
       "    </tr>\n",
       "  </tbody>\n",
       "</table>\n",
       "</div>"
      ],
      "text/plain": [
       "     male_salary  female_salary\n",
       "0   67640.523460   32023.091657\n",
       "1   54001.572084   60882.567359\n",
       "2   59787.379841   62779.925790\n",
       "3   72408.931992   48320.514816\n",
       "4   68675.579901   75427.791616\n",
       "5   40227.221201   41910.708929\n",
       "6   59500.884175   55411.826656\n",
       "7   48486.427917   53315.345350\n",
       "8   48967.811482   68795.012929\n",
       "9   54105.985019   68224.228929\n",
       "10  51440.435712   56394.526831\n",
       "11  64542.735070   58403.462676\n",
       "12  57610.377251   47009.928271\n",
       "13  51216.750165   37172.831786\n",
       "14  54438.632327   51868.790656\n",
       "15  53336.743274   56407.140722\n",
       "16  64940.790732   66072.616127\n",
       "17  47948.417362   65821.418639\n",
       "18  53130.677017   51514.058643\n",
       "19  41459.042607   52279.275245"
      ]
     },
     "execution_count": 97,
     "metadata": {},
     "output_type": "execute_result"
    }
   ],
   "source": [
    "data"
   ]
  },
  {
   "cell_type": "code",
   "execution_count": 98,
   "id": "20bc7cd8-30f7-4547-9c3f-4615bd2494e0",
   "metadata": {},
   "outputs": [
    {
     "data": {
      "text/plain": [
       "(55693.345929456365, 55501.753181380416)"
      ]
     },
     "execution_count": 98,
     "metadata": {},
     "output_type": "execute_result"
    }
   ],
   "source": [
    "np.mean(male_salaries), np.mean(female_salaries)"
   ]
  },
  {
   "cell_type": "code",
   "execution_count": 99,
   "id": "40ac8b77-fad4-48b1-ae4f-12ac7cb37c49",
   "metadata": {},
   "outputs": [],
   "source": [
    "t_statistics, pvalue = stats.ttest_ind(male_salaries, female_salaries)"
   ]
  },
  {
   "cell_type": "code",
   "execution_count": 100,
   "id": "2fbdbbb6-905f-4cdc-82bc-cea71e6b322d",
   "metadata": {},
   "outputs": [
    {
     "data": {
      "text/plain": [
       "0.9515665020676465"
      ]
     },
     "execution_count": 100,
     "metadata": {},
     "output_type": "execute_result"
    }
   ],
   "source": [
    "pvalue"
   ]
  },
  {
   "cell_type": "code",
   "execution_count": 101,
   "id": "cca52551-b3f9-4e88-b69e-8bcfb067e8af",
   "metadata": {},
   "outputs": [
    {
     "name": "stdout",
     "output_type": "stream",
     "text": [
      "Fail to reject H0\n"
     ]
    }
   ],
   "source": [
    "if pvalue <= 0.05:\n",
    "    print(\"Reject the H0\")\n",
    "else:\n",
    "    print(\"Fail to reject H0\")"
   ]
  },
  {
   "cell_type": "markdown",
   "id": "d0254cc7-6bc4-42f4-90fa-4751d381f5e4",
   "metadata": {},
   "source": [
    "### conclusion : There is no significant difference to male and female salary."
   ]
  },
  {
   "cell_type": "markdown",
   "id": "c79e6e62-6fd8-4198-9c60-0ea2a7956b9b",
   "metadata": {},
   "source": [
    "# 19) A manufacturer produces two different versions of a product and wants to compare their quality scores. Create a Python function to analyze quality assessment data, calculate the t-statistic, and decide whether there's a significant difference in quality between the two versions"
   ]
  },
  {
   "cell_type": "code",
   "execution_count": 102,
   "id": "d1f63819-5305-46c4-84ca-dff93bd0ddf3",
   "metadata": {},
   "outputs": [],
   "source": [
    "version1_scores = [85, 88, 82, 89, 87, 84, 90, 88, 85, 86, 91, 83, 87, 84, 89, 86, 84, 88, 85, 86, 89, 90, 87, 88, 85]\n",
    "version2_scores = [80, 78, 83, 81, 79, 82, 76, 80, 78, 81, 77, 82, 80, 79, 82, 79, 80, 81, 79, 82, 79, 78, 80, 81, 82]"
   ]
  },
  {
   "cell_type": "code",
   "execution_count": 103,
   "id": "21c4c3d1-1c94-461b-8f29-b153dc1025d2",
   "metadata": {},
   "outputs": [
    {
     "data": {
      "text/plain": [
       "(2.313093167168154, 1.731588865753069)"
      ]
     },
     "execution_count": 103,
     "metadata": {},
     "output_type": "execute_result"
    }
   ],
   "source": [
    "np.std(version1_scores), np.std(version2_scores)"
   ]
  },
  {
   "cell_type": "code",
   "execution_count": 104,
   "id": "21e30dee-c60c-41d2-8bb0-dedde19592d8",
   "metadata": {},
   "outputs": [],
   "source": [
    "t_statistics, pvalue = stats.ttest_ind(version1_scores, version2_scores)"
   ]
  },
  {
   "cell_type": "code",
   "execution_count": 105,
   "id": "be38db2a-4480-435a-a28b-3725ba0b19d0",
   "metadata": {},
   "outputs": [
    {
     "data": {
      "text/plain": [
       "3.6824250702873965e-15"
      ]
     },
     "execution_count": 105,
     "metadata": {},
     "output_type": "execute_result"
    }
   ],
   "source": [
    "pvalue"
   ]
  },
  {
   "cell_type": "code",
   "execution_count": 106,
   "id": "71ef7cb0-2394-4a75-bd42-d9e7804b49a2",
   "metadata": {},
   "outputs": [
    {
     "name": "stdout",
     "output_type": "stream",
     "text": [
      "Reject the H0\n"
     ]
    }
   ],
   "source": [
    "if pvalue <= 0.05:\n",
    "    print(\"Reject the H0\")\n",
    "else:\n",
    "    print(\"Fail to reject H0\")"
   ]
  },
  {
   "cell_type": "markdown",
   "id": "e6b3bc92-33cb-489f-9a30-8f65338e0fc2",
   "metadata": {},
   "source": [
    "### conclusion : There is a difference in  versions of product"
   ]
  },
  {
   "cell_type": "markdown",
   "id": "ef5093fb-9212-4d8b-a7af-15a6f496ed98",
   "metadata": {},
   "source": [
    "# 20) A restaurant chain collects customer satisfaction scores for two different branches. Write a program to analyze the scores, calculate the t-statistic, and determine if there's a statistically significant difference in customer satisfaction between the branches."
   ]
  },
  {
   "cell_type": "code",
   "execution_count": 107,
   "id": "6bdda063-e342-4864-a5df-6ea6c794f61c",
   "metadata": {},
   "outputs": [],
   "source": [
    "branch_a_scores = [4, 5, 3, 4, 5, 4, 5, 3, 4, 4, 5, 4, 4, 3, 4, 5, 5, 4, 3, 4, 5, 4, 3, 5, 4, 4, 5, 3, 4, 5, 4]\n",
    "branch_b_scores = [3, 4, 2, 3, 4, 3, 4, 2, 3, 3, 4, 3, 3, 2, 3, 4, 4, 3, 2, 3, 4, 3, 2, 4, 3, 3, 4, 2, 3, 4, 3]"
   ]
  },
  {
   "cell_type": "code",
   "execution_count": 108,
   "id": "3e4fa035-2e97-4a48-8d98-207723958d23",
   "metadata": {},
   "outputs": [
    {
     "data": {
      "text/plain": [
       "(0.7067387838776338, 0.7067387838776338)"
      ]
     },
     "execution_count": 108,
     "metadata": {},
     "output_type": "execute_result"
    }
   ],
   "source": [
    "np.std(branch_a_scores), np.std(branch_b_scores)"
   ]
  },
  {
   "cell_type": "code",
   "execution_count": 109,
   "id": "9ad8a85f-64e3-4055-accb-154fbf9e94fb",
   "metadata": {},
   "outputs": [],
   "source": [
    "t_statistics, pvalue = stats.ttest_ind(branch_a_scores, branch_b_scores)"
   ]
  },
  {
   "cell_type": "code",
   "execution_count": 110,
   "id": "9840849b-dec7-41f6-9f61-81d51dcd5c18",
   "metadata": {},
   "outputs": [
    {
     "name": "stdout",
     "output_type": "stream",
     "text": [
      "Reject the H0\n"
     ]
    }
   ],
   "source": [
    "if pvalue <= 0.05:\n",
    "    print(\"Reject the H0\")\n",
    "else:\n",
    "    print(\"Fail to reject H0\")"
   ]
  },
  {
   "cell_type": "markdown",
   "id": "8eb62cca-f2fb-4157-a523-c1cc44ebca80",
   "metadata": {},
   "source": [
    "### conclusion : There is a differnce in two branches."
   ]
  },
  {
   "cell_type": "markdown",
   "id": "eaa20bcc-7e0e-426c-b8c7-302bd59f7e21",
   "metadata": {},
   "source": [
    "# 21) A political analyst wants to determine if there is a significant association between age groups and voter preferences (Candidate A or Candidate B). They collect data from a sample of 500 voters and classify them into different age groups and candidate preferences. Perform a Chi-Square test to determine if there is a significant association between age groups and voter preferences."
   ]
  },
  {
   "cell_type": "code",
   "execution_count": 111,
   "id": "05cdd983-128b-4ba7-9ae2-51ba2eec3f05",
   "metadata": {},
   "outputs": [],
   "source": [
    "np.random.seed(0)\n",
    "age_groups = np.random.choice(['18-30', '31-50', '51+', '51+'], size=30)\n",
    "voter_preferences = np.random.choice(['Candidate A', 'Candidate B'], size=30)"
   ]
  },
  {
   "cell_type": "code",
   "execution_count": 112,
   "id": "fe81b5d3-3308-4455-9636-39ad4bf51b86",
   "metadata": {},
   "outputs": [],
   "source": [
    "data = pd.DataFrame({'age_groups':age_groups,'voter_preference':voter_preferences})"
   ]
  },
  {
   "cell_type": "code",
   "execution_count": 113,
   "id": "35fe2974-5540-4110-8fa3-d6fba6fa38df",
   "metadata": {},
   "outputs": [
    {
     "data": {
      "text/html": [
       "<div>\n",
       "<style scoped>\n",
       "    .dataframe tbody tr th:only-of-type {\n",
       "        vertical-align: middle;\n",
       "    }\n",
       "\n",
       "    .dataframe tbody tr th {\n",
       "        vertical-align: top;\n",
       "    }\n",
       "\n",
       "    .dataframe thead th {\n",
       "        text-align: right;\n",
       "    }\n",
       "</style>\n",
       "<table border=\"1\" class=\"dataframe\">\n",
       "  <thead>\n",
       "    <tr style=\"text-align: right;\">\n",
       "      <th></th>\n",
       "      <th>age_groups</th>\n",
       "      <th>voter_preference</th>\n",
       "    </tr>\n",
       "  </thead>\n",
       "  <tbody>\n",
       "    <tr>\n",
       "      <th>0</th>\n",
       "      <td>18-30</td>\n",
       "      <td>Candidate B</td>\n",
       "    </tr>\n",
       "    <tr>\n",
       "      <th>1</th>\n",
       "      <td>51+</td>\n",
       "      <td>Candidate A</td>\n",
       "    </tr>\n",
       "    <tr>\n",
       "      <th>2</th>\n",
       "      <td>31-50</td>\n",
       "      <td>Candidate B</td>\n",
       "    </tr>\n",
       "    <tr>\n",
       "      <th>3</th>\n",
       "      <td>18-30</td>\n",
       "      <td>Candidate A</td>\n",
       "    </tr>\n",
       "    <tr>\n",
       "      <th>4</th>\n",
       "      <td>51+</td>\n",
       "      <td>Candidate B</td>\n",
       "    </tr>\n",
       "    <tr>\n",
       "      <th>5</th>\n",
       "      <td>51+</td>\n",
       "      <td>Candidate B</td>\n",
       "    </tr>\n",
       "    <tr>\n",
       "      <th>6</th>\n",
       "      <td>51+</td>\n",
       "      <td>Candidate A</td>\n",
       "    </tr>\n",
       "    <tr>\n",
       "      <th>7</th>\n",
       "      <td>51+</td>\n",
       "      <td>Candidate B</td>\n",
       "    </tr>\n",
       "    <tr>\n",
       "      <th>8</th>\n",
       "      <td>31-50</td>\n",
       "      <td>Candidate B</td>\n",
       "    </tr>\n",
       "    <tr>\n",
       "      <th>9</th>\n",
       "      <td>51+</td>\n",
       "      <td>Candidate A</td>\n",
       "    </tr>\n",
       "    <tr>\n",
       "      <th>10</th>\n",
       "      <td>31-50</td>\n",
       "      <td>Candidate A</td>\n",
       "    </tr>\n",
       "    <tr>\n",
       "      <th>11</th>\n",
       "      <td>51+</td>\n",
       "      <td>Candidate B</td>\n",
       "    </tr>\n",
       "    <tr>\n",
       "      <th>12</th>\n",
       "      <td>18-30</td>\n",
       "      <td>Candidate A</td>\n",
       "    </tr>\n",
       "    <tr>\n",
       "      <th>13</th>\n",
       "      <td>51+</td>\n",
       "      <td>Candidate B</td>\n",
       "    </tr>\n",
       "    <tr>\n",
       "      <th>14</th>\n",
       "      <td>51+</td>\n",
       "      <td>Candidate B</td>\n",
       "    </tr>\n",
       "    <tr>\n",
       "      <th>15</th>\n",
       "      <td>18-30</td>\n",
       "      <td>Candidate B</td>\n",
       "    </tr>\n",
       "    <tr>\n",
       "      <th>16</th>\n",
       "      <td>18-30</td>\n",
       "      <td>Candidate B</td>\n",
       "    </tr>\n",
       "    <tr>\n",
       "      <th>17</th>\n",
       "      <td>18-30</td>\n",
       "      <td>Candidate B</td>\n",
       "    </tr>\n",
       "    <tr>\n",
       "      <th>18</th>\n",
       "      <td>51+</td>\n",
       "      <td>Candidate A</td>\n",
       "    </tr>\n",
       "    <tr>\n",
       "      <th>19</th>\n",
       "      <td>31-50</td>\n",
       "      <td>Candidate B</td>\n",
       "    </tr>\n",
       "    <tr>\n",
       "      <th>20</th>\n",
       "      <td>51+</td>\n",
       "      <td>Candidate A</td>\n",
       "    </tr>\n",
       "    <tr>\n",
       "      <th>21</th>\n",
       "      <td>51+</td>\n",
       "      <td>Candidate B</td>\n",
       "    </tr>\n",
       "    <tr>\n",
       "      <th>22</th>\n",
       "      <td>51+</td>\n",
       "      <td>Candidate B</td>\n",
       "    </tr>\n",
       "    <tr>\n",
       "      <th>23</th>\n",
       "      <td>51+</td>\n",
       "      <td>Candidate B</td>\n",
       "    </tr>\n",
       "    <tr>\n",
       "      <th>24</th>\n",
       "      <td>18-30</td>\n",
       "      <td>Candidate B</td>\n",
       "    </tr>\n",
       "    <tr>\n",
       "      <th>25</th>\n",
       "      <td>31-50</td>\n",
       "      <td>Candidate A</td>\n",
       "    </tr>\n",
       "    <tr>\n",
       "      <th>26</th>\n",
       "      <td>31-50</td>\n",
       "      <td>Candidate B</td>\n",
       "    </tr>\n",
       "    <tr>\n",
       "      <th>27</th>\n",
       "      <td>31-50</td>\n",
       "      <td>Candidate A</td>\n",
       "    </tr>\n",
       "    <tr>\n",
       "      <th>28</th>\n",
       "      <td>31-50</td>\n",
       "      <td>Candidate A</td>\n",
       "    </tr>\n",
       "    <tr>\n",
       "      <th>29</th>\n",
       "      <td>18-30</td>\n",
       "      <td>Candidate B</td>\n",
       "    </tr>\n",
       "  </tbody>\n",
       "</table>\n",
       "</div>"
      ],
      "text/plain": [
       "   age_groups voter_preference\n",
       "0       18-30      Candidate B\n",
       "1         51+      Candidate A\n",
       "2       31-50      Candidate B\n",
       "3       18-30      Candidate A\n",
       "4         51+      Candidate B\n",
       "5         51+      Candidate B\n",
       "6         51+      Candidate A\n",
       "7         51+      Candidate B\n",
       "8       31-50      Candidate B\n",
       "9         51+      Candidate A\n",
       "10      31-50      Candidate A\n",
       "11        51+      Candidate B\n",
       "12      18-30      Candidate A\n",
       "13        51+      Candidate B\n",
       "14        51+      Candidate B\n",
       "15      18-30      Candidate B\n",
       "16      18-30      Candidate B\n",
       "17      18-30      Candidate B\n",
       "18        51+      Candidate A\n",
       "19      31-50      Candidate B\n",
       "20        51+      Candidate A\n",
       "21        51+      Candidate B\n",
       "22        51+      Candidate B\n",
       "23        51+      Candidate B\n",
       "24      18-30      Candidate B\n",
       "25      31-50      Candidate A\n",
       "26      31-50      Candidate B\n",
       "27      31-50      Candidate A\n",
       "28      31-50      Candidate A\n",
       "29      18-30      Candidate B"
      ]
     },
     "execution_count": 113,
     "metadata": {},
     "output_type": "execute_result"
    }
   ],
   "source": [
    "data"
   ]
  },
  {
   "cell_type": "code",
   "execution_count": 114,
   "id": "938bd39a-078b-49b9-89dc-90fc216a2ca3",
   "metadata": {},
   "outputs": [],
   "source": [
    "df = pd.crosstab(data['age_groups'],data['voter_preference'])"
   ]
  },
  {
   "cell_type": "code",
   "execution_count": 115,
   "id": "f803b0c8-af26-4582-bd4d-ab81e88a1ae9",
   "metadata": {},
   "outputs": [
    {
     "data": {
      "text/html": [
       "<div>\n",
       "<style scoped>\n",
       "    .dataframe tbody tr th:only-of-type {\n",
       "        vertical-align: middle;\n",
       "    }\n",
       "\n",
       "    .dataframe tbody tr th {\n",
       "        vertical-align: top;\n",
       "    }\n",
       "\n",
       "    .dataframe thead th {\n",
       "        text-align: right;\n",
       "    }\n",
       "</style>\n",
       "<table border=\"1\" class=\"dataframe\">\n",
       "  <thead>\n",
       "    <tr style=\"text-align: right;\">\n",
       "      <th>voter_preference</th>\n",
       "      <th>Candidate A</th>\n",
       "      <th>Candidate B</th>\n",
       "    </tr>\n",
       "    <tr>\n",
       "      <th>age_groups</th>\n",
       "      <th></th>\n",
       "      <th></th>\n",
       "    </tr>\n",
       "  </thead>\n",
       "  <tbody>\n",
       "    <tr>\n",
       "      <th>18-30</th>\n",
       "      <td>2</td>\n",
       "      <td>6</td>\n",
       "    </tr>\n",
       "    <tr>\n",
       "      <th>31-50</th>\n",
       "      <td>4</td>\n",
       "      <td>4</td>\n",
       "    </tr>\n",
       "    <tr>\n",
       "      <th>51+</th>\n",
       "      <td>5</td>\n",
       "      <td>9</td>\n",
       "    </tr>\n",
       "  </tbody>\n",
       "</table>\n",
       "</div>"
      ],
      "text/plain": [
       "voter_preference  Candidate A  Candidate B\n",
       "age_groups                                \n",
       "18-30                       2            6\n",
       "31-50                       4            4\n",
       "51+                         5            9"
      ]
     },
     "execution_count": 115,
     "metadata": {},
     "output_type": "execute_result"
    }
   ],
   "source": [
    "df"
   ]
  },
  {
   "cell_type": "code",
   "execution_count": 116,
   "id": "4f93bca6-8a24-4fe3-9dd0-74cf0cc5032e",
   "metadata": {},
   "outputs": [],
   "source": [
    "stat, pvalue, dof, expected_values = stats.chi2_contingency(df)"
   ]
  },
  {
   "cell_type": "code",
   "execution_count": 117,
   "id": "d7181cbf-d347-4168-b70b-41a09bfc34b3",
   "metadata": {},
   "outputs": [
    {
     "data": {
      "text/plain": [
       "array([[2.93333333, 5.06666667],\n",
       "       [2.93333333, 5.06666667],\n",
       "       [5.13333333, 8.86666667]])"
      ]
     },
     "execution_count": 117,
     "metadata": {},
     "output_type": "execute_result"
    }
   ],
   "source": [
    "expected_values"
   ]
  },
  {
   "cell_type": "code",
   "execution_count": 118,
   "id": "2ee8689a-b9f2-49fc-ac31-a28eec607ac5",
   "metadata": {},
   "outputs": [
    {
     "name": "stdout",
     "output_type": "stream",
     "text": [
      "Fail to reject H0\n"
     ]
    }
   ],
   "source": [
    "if pvalue <= 0.05:\n",
    "    print(\"Reject the H0\")\n",
    "else:\n",
    "    print(\"Fail to reject H0\")"
   ]
  },
  {
   "cell_type": "markdown",
   "id": "be7a3a52-7ca2-40e0-a260-8ff04aa4d45e",
   "metadata": {},
   "source": [
    "### conclusion : There is association between age group and voter preference."
   ]
  },
  {
   "cell_type": "markdown",
   "id": "dede9003-485d-48c9-8c58-33f40af44ba4",
   "metadata": {},
   "source": [
    "# 22) A company conducted a customer satisfaction survey to determine if there is a significant relationship between product satisfaction levels (Satisfied, Neutral, Dissatisfied) and the region where customers are located (East, West, North, South). The survey data is summarized in a contingency table. Conduct a ChiSquare test to determine if there is a significant relationship between product satisfaction levels and customer regions."
   ]
  },
  {
   "cell_type": "code",
   "execution_count": 120,
   "id": "3d52b908-1b19-4fe5-9036-809a2313e19c",
   "metadata": {},
   "outputs": [
    {
     "data": {
      "text/html": [
       "<div>\n",
       "<style scoped>\n",
       "    .dataframe tbody tr th:only-of-type {\n",
       "        vertical-align: middle;\n",
       "    }\n",
       "\n",
       "    .dataframe tbody tr th {\n",
       "        vertical-align: top;\n",
       "    }\n",
       "\n",
       "    .dataframe thead th {\n",
       "        text-align: right;\n",
       "    }\n",
       "</style>\n",
       "<table border=\"1\" class=\"dataframe\">\n",
       "  <thead>\n",
       "    <tr style=\"text-align: right;\">\n",
       "      <th></th>\n",
       "      <th>East</th>\n",
       "      <th>West</th>\n",
       "      <th>North</th>\n",
       "      <th>South</th>\n",
       "    </tr>\n",
       "  </thead>\n",
       "  <tbody>\n",
       "    <tr>\n",
       "      <th>Satisfied</th>\n",
       "      <td>50</td>\n",
       "      <td>30</td>\n",
       "      <td>40</td>\n",
       "      <td>20</td>\n",
       "    </tr>\n",
       "    <tr>\n",
       "      <th>Neutral</th>\n",
       "      <td>30</td>\n",
       "      <td>40</td>\n",
       "      <td>30</td>\n",
       "      <td>50</td>\n",
       "    </tr>\n",
       "    <tr>\n",
       "      <th>Dissatified</th>\n",
       "      <td>20</td>\n",
       "      <td>30</td>\n",
       "      <td>40</td>\n",
       "      <td>30</td>\n",
       "    </tr>\n",
       "  </tbody>\n",
       "</table>\n",
       "</div>"
      ],
      "text/plain": [
       "             East  West  North  South\n",
       "Satisfied      50    30     40     20\n",
       "Neutral        30    40     30     50\n",
       "Dissatified    20    30     40     30"
      ]
     },
     "execution_count": 120,
     "metadata": {},
     "output_type": "execute_result"
    }
   ],
   "source": [
    "data = np.array([[50, 30, 40, 20], [30, 40, 30, 50], [20, 30, 40, 30]])\n",
    "rows = ['Satisfied','Neutral','Dissatified']\n",
    "column = ['East','West','North','South']\n",
    "pd.DataFrame(data, columns = column, index = rows)"
   ]
  },
  {
   "cell_type": "code",
   "execution_count": 121,
   "id": "afe9d811-2a1f-4e42-8c81-e73beaff07fe",
   "metadata": {},
   "outputs": [],
   "source": [
    "#Sample data: Product satisfaction levels (rows) vs. Customer regions (columns)\n",
    "observed_data = np.array([[50, 30, 40, 20], [30, 40, 30, 50], [20, 30, 40, 30]])"
   ]
  },
  {
   "cell_type": "code",
   "execution_count": 122,
   "id": "234561e3-296f-4c9b-9d7c-813a0f01ec6b",
   "metadata": {},
   "outputs": [],
   "source": [
    "stat,pvalue, dof, expected_values = stats.chi2_contingency(observed_data)"
   ]
  },
  {
   "cell_type": "code",
   "execution_count": 123,
   "id": "8504b8ed-b619-4128-9e09-3b2e66614a3c",
   "metadata": {},
   "outputs": [
    {
     "data": {
      "text/plain": [
       "array([[34.14634146, 34.14634146, 37.56097561, 34.14634146],\n",
       "       [36.58536585, 36.58536585, 40.24390244, 36.58536585],\n",
       "       [29.26829268, 29.26829268, 32.19512195, 29.26829268]])"
      ]
     },
     "execution_count": 123,
     "metadata": {},
     "output_type": "execute_result"
    }
   ],
   "source": [
    "expected_values"
   ]
  },
  {
   "cell_type": "code",
   "execution_count": 124,
   "id": "39a7ffa6-4a68-4c2f-b117-6f83c07d21f9",
   "metadata": {},
   "outputs": [
    {
     "name": "stdout",
     "output_type": "stream",
     "text": [
      "Reject the H0\n"
     ]
    }
   ],
   "source": [
    "if pvalue <= 0.05:\n",
    "    print(\"Reject the H0\")\n",
    "else:\n",
    "    print(\"Fail to reject H0\")"
   ]
  },
  {
   "cell_type": "markdown",
   "id": "f69ec8e0-0115-4e58-857f-c93e8f69064f",
   "metadata": {},
   "source": [
    "### conclusion : There is no significant relationship between product satisfaction level and customer location."
   ]
  },
  {
   "cell_type": "markdown",
   "id": "02d22297-3433-42bb-8b6e-a6d52293716c",
   "metadata": {},
   "source": [
    "# 23) A company implemented an employee training program to improve job performance (Effective, Neutral, Ineffective). After the training, they collected data from a sample of employees and classified them based on their job performance before and after the training. Perform a Chi-Square test to determine if there is a significant difference between job performance levels before and after the training."
   ]
  },
  {
   "cell_type": "code",
   "execution_count": 125,
   "id": "ef3645d9-c454-47fe-bb3d-792c80356ec0",
   "metadata": {},
   "outputs": [
    {
     "data": {
      "text/html": [
       "<div>\n",
       "<style scoped>\n",
       "    .dataframe tbody tr th:only-of-type {\n",
       "        vertical-align: middle;\n",
       "    }\n",
       "\n",
       "    .dataframe tbody tr th {\n",
       "        vertical-align: top;\n",
       "    }\n",
       "\n",
       "    .dataframe thead th {\n",
       "        text-align: right;\n",
       "    }\n",
       "</style>\n",
       "<table border=\"1\" class=\"dataframe\">\n",
       "  <thead>\n",
       "    <tr style=\"text-align: right;\">\n",
       "      <th></th>\n",
       "      <th>Effective</th>\n",
       "      <th>Neutral</th>\n",
       "      <th>Ineffective</th>\n",
       "    </tr>\n",
       "  </thead>\n",
       "  <tbody>\n",
       "    <tr>\n",
       "      <th>Effective</th>\n",
       "      <td>50</td>\n",
       "      <td>30</td>\n",
       "      <td>20</td>\n",
       "    </tr>\n",
       "    <tr>\n",
       "      <th>Neutral</th>\n",
       "      <td>30</td>\n",
       "      <td>40</td>\n",
       "      <td>30</td>\n",
       "    </tr>\n",
       "    <tr>\n",
       "      <th>Ineffective</th>\n",
       "      <td>20</td>\n",
       "      <td>30</td>\n",
       "      <td>40</td>\n",
       "    </tr>\n",
       "  </tbody>\n",
       "</table>\n",
       "</div>"
      ],
      "text/plain": [
       "             Effective  Neutral  Ineffective\n",
       "Effective           50       30           20\n",
       "Neutral             30       40           30\n",
       "Ineffective         20       30           40"
      ]
     },
     "execution_count": 125,
     "metadata": {},
     "output_type": "execute_result"
    }
   ],
   "source": [
    "observed_data = np.array([[50, 30, 20], [30, 40, 30], [20, 30, 40]])\n",
    "column = ['Effective','Neutral','Ineffective']\n",
    "row = ['Effective','Neutral','Ineffective']\n",
    "pd.DataFrame(observed_data,columns = column, index = row)"
   ]
  },
  {
   "cell_type": "code",
   "execution_count": 126,
   "id": "e8aa6b20-3133-4380-a016-814664a05432",
   "metadata": {},
   "outputs": [],
   "source": [
    "# Sample data: Job performance levels before (rows) and after (columns) training\n",
    "observed_data = np.array([[50, 30, 20], [30, 40, 30], [20, 30, 40]])"
   ]
  },
  {
   "cell_type": "code",
   "execution_count": 127,
   "id": "a21b69e0-ce36-4825-af7d-e326f2f836ca",
   "metadata": {},
   "outputs": [],
   "source": [
    "stats_test, pvalue, dof, expected_values = stats.chi2_contingency(observed_data)"
   ]
  },
  {
   "cell_type": "code",
   "execution_count": 128,
   "id": "23148fff-a238-4d89-9fa1-81534baf0780",
   "metadata": {},
   "outputs": [
    {
     "data": {
      "text/plain": [
       "array([[34.48275862, 34.48275862, 31.03448276],\n",
       "       [34.48275862, 34.48275862, 31.03448276],\n",
       "       [31.03448276, 31.03448276, 27.93103448]])"
      ]
     },
     "execution_count": 128,
     "metadata": {},
     "output_type": "execute_result"
    }
   ],
   "source": [
    "expected_values"
   ]
  },
  {
   "cell_type": "code",
   "execution_count": 129,
   "id": "4402d296-3374-41fd-8333-d5c61cbab5a3",
   "metadata": {},
   "outputs": [
    {
     "data": {
      "text/plain": [
       "0.00018609719479882557"
      ]
     },
     "execution_count": 129,
     "metadata": {},
     "output_type": "execute_result"
    }
   ],
   "source": [
    "pvalue"
   ]
  },
  {
   "cell_type": "code",
   "execution_count": 130,
   "id": "a7c5c035-f924-4b4e-b76a-42e5d2706529",
   "metadata": {},
   "outputs": [
    {
     "name": "stdout",
     "output_type": "stream",
     "text": [
      "Reject the H0\n"
     ]
    }
   ],
   "source": [
    "if pvalue <= 0.05:\n",
    "    print(\"Reject the H0\")\n",
    "else:\n",
    "    print(\"Fail to reject H0\")"
   ]
  },
  {
   "cell_type": "markdown",
   "id": "fe67a5eb-7428-4811-aa90-cde236ceb618",
   "metadata": {},
   "source": [
    "### conclusion : There is no change in job performance after training."
   ]
  },
  {
   "cell_type": "markdown",
   "id": "7b4dbad3-c600-4cef-b646-480ad912775b",
   "metadata": {},
   "source": [
    "# 24)  A company produces three different versions of a product: Standard, Premium, and Deluxe. The company wants to determine if there is a significant difference in customer satisfaction scores among the three product versions. They conducted a survey and collected customer satisfaction scores for each version from a random sample of customers. Perform an ANOVA test to determine if there is a significant difference in customer satisfaction scores."
   ]
  },
  {
   "cell_type": "code",
   "execution_count": 131,
   "id": "bd899003-8b20-4fab-9147-d80e0f5fa38f",
   "metadata": {},
   "outputs": [
    {
     "data": {
      "text/html": [
       "<div>\n",
       "<style scoped>\n",
       "    .dataframe tbody tr th:only-of-type {\n",
       "        vertical-align: middle;\n",
       "    }\n",
       "\n",
       "    .dataframe tbody tr th {\n",
       "        vertical-align: top;\n",
       "    }\n",
       "\n",
       "    .dataframe thead th {\n",
       "        text-align: right;\n",
       "    }\n",
       "</style>\n",
       "<table border=\"1\" class=\"dataframe\">\n",
       "  <thead>\n",
       "    <tr style=\"text-align: right;\">\n",
       "      <th></th>\n",
       "      <th>standard_scores</th>\n",
       "      <th>premium_scores</th>\n",
       "      <th>deluxe_scores</th>\n",
       "    </tr>\n",
       "  </thead>\n",
       "  <tbody>\n",
       "    <tr>\n",
       "      <th>0</th>\n",
       "      <td>80</td>\n",
       "      <td>90</td>\n",
       "      <td>95</td>\n",
       "    </tr>\n",
       "    <tr>\n",
       "      <th>1</th>\n",
       "      <td>85</td>\n",
       "      <td>92</td>\n",
       "      <td>98</td>\n",
       "    </tr>\n",
       "    <tr>\n",
       "      <th>2</th>\n",
       "      <td>90</td>\n",
       "      <td>88</td>\n",
       "      <td>92</td>\n",
       "    </tr>\n",
       "    <tr>\n",
       "      <th>3</th>\n",
       "      <td>78</td>\n",
       "      <td>92</td>\n",
       "      <td>97</td>\n",
       "    </tr>\n",
       "    <tr>\n",
       "      <th>4</th>\n",
       "      <td>88</td>\n",
       "      <td>95</td>\n",
       "      <td>96</td>\n",
       "    </tr>\n",
       "    <tr>\n",
       "      <th>5</th>\n",
       "      <td>82</td>\n",
       "      <td>91</td>\n",
       "      <td>94</td>\n",
       "    </tr>\n",
       "    <tr>\n",
       "      <th>6</th>\n",
       "      <td>92</td>\n",
       "      <td>96</td>\n",
       "      <td>98</td>\n",
       "    </tr>\n",
       "    <tr>\n",
       "      <th>7</th>\n",
       "      <td>78</td>\n",
       "      <td>93</td>\n",
       "      <td>97</td>\n",
       "    </tr>\n",
       "    <tr>\n",
       "      <th>8</th>\n",
       "      <td>85</td>\n",
       "      <td>89</td>\n",
       "      <td>92</td>\n",
       "    </tr>\n",
       "    <tr>\n",
       "      <th>9</th>\n",
       "      <td>87</td>\n",
       "      <td>93</td>\n",
       "      <td>99</td>\n",
       "    </tr>\n",
       "  </tbody>\n",
       "</table>\n",
       "</div>"
      ],
      "text/plain": [
       "   standard_scores  premium_scores  deluxe_scores\n",
       "0               80              90             95\n",
       "1               85              92             98\n",
       "2               90              88             92\n",
       "3               78              92             97\n",
       "4               88              95             96\n",
       "5               82              91             94\n",
       "6               92              96             98\n",
       "7               78              93             97\n",
       "8               85              89             92\n",
       "9               87              93             99"
      ]
     },
     "execution_count": 131,
     "metadata": {},
     "output_type": "execute_result"
    }
   ],
   "source": [
    "#columns = ['Standard','Premium','Deluxe']\n",
    "data = {'standard_scores' : [80, 85, 90, 78, 88, 82, 92, 78, 85, 87],\n",
    "'premium_scores' : [90, 92, 88, 92, 95, 91, 96, 93, 89, 93],\n",
    "'deluxe_scores' : [95, 98, 92, 97, 96, 94, 98, 97, 92, 99] }\n",
    "pd.DataFrame(data)"
   ]
  },
  {
   "cell_type": "code",
   "execution_count": 132,
   "id": "194f10c7-32fa-4380-862c-cd9c1f57f50d",
   "metadata": {},
   "outputs": [],
   "source": [
    "# Sample data: Customer satisfaction scores for each product version\n",
    "standard_scores = [80, 85, 90, 78, 88, 82, 92, 78, 85, 87]\n",
    "premium_scores = [90, 92, 88, 92, 95, 91, 96, 93, 89, 93]\n",
    "deluxe_scores = [95, 98, 92, 97, 96, 94, 98, 97, 92, 99]"
   ]
  },
  {
   "cell_type": "code",
   "execution_count": 133,
   "id": "6fad5e58-c312-4cf3-a6b9-c331f51cdeb2",
   "metadata": {},
   "outputs": [],
   "source": [
    "fstats, pvalue = stats.f_oneway(standard_scores, premium_scores, deluxe_scores)"
   ]
  },
  {
   "cell_type": "code",
   "execution_count": 134,
   "id": "30f649b5-1bc5-4ad1-ab79-a6af7f511e36",
   "metadata": {},
   "outputs": [
    {
     "data": {
      "text/plain": [
       "27.03556231003039"
      ]
     },
     "execution_count": 134,
     "metadata": {},
     "output_type": "execute_result"
    }
   ],
   "source": [
    "fstats"
   ]
  },
  {
   "cell_type": "code",
   "execution_count": 135,
   "id": "a70b364e-dacd-4826-a5a3-72118b887c29",
   "metadata": {},
   "outputs": [
    {
     "data": {
      "text/plain": [
       "3.5786328857349003e-07"
      ]
     },
     "execution_count": 135,
     "metadata": {},
     "output_type": "execute_result"
    }
   ],
   "source": [
    "pvalue"
   ]
  },
  {
   "cell_type": "code",
   "execution_count": 136,
   "id": "c10f571c-947b-4650-8db7-b325eb195262",
   "metadata": {},
   "outputs": [
    {
     "name": "stdout",
     "output_type": "stream",
     "text": [
      "Reject the H0\n"
     ]
    }
   ],
   "source": [
    "if pvalue <= 0.05:\n",
    "    print(\"Reject the H0\")\n",
    "else:\n",
    "    print(\"Fail to reject H0\")"
   ]
  },
  {
   "cell_type": "markdown",
   "id": "0a311efe-712f-4a95-a01e-58a2868da222",
   "metadata": {},
   "source": [
    "### conclusion : There is no significant difference in customer satisfaction score among three versions of product."
   ]
  },
  {
   "cell_type": "code",
   "execution_count": null,
   "id": "c86be4c7-4baf-4e25-b444-ed83262bac38",
   "metadata": {},
   "outputs": [],
   "source": []
  }
 ],
 "metadata": {
  "kernelspec": {
   "display_name": "Python 3 (ipykernel)",
   "language": "python",
   "name": "python3"
  },
  "language_info": {
   "codemirror_mode": {
    "name": "ipython",
    "version": 3
   },
   "file_extension": ".py",
   "mimetype": "text/x-python",
   "name": "python",
   "nbconvert_exporter": "python",
   "pygments_lexer": "ipython3",
   "version": "3.10.8"
  }
 },
 "nbformat": 4,
 "nbformat_minor": 5
}
